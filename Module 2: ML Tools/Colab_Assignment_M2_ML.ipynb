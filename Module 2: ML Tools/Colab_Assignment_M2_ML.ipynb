{
  "nbformat": 4,
  "nbformat_minor": 0,
  "metadata": {
    "colab": {
      "name": "Colab_Assignment-M2-ML.ipynb",
      "provenance": [],
      "collapsed_sections": []
    },
    "kernelspec": {
      "name": "python3",
      "display_name": "Python 3"
    },
    "language_info": {
      "name": "python"
    }
  },
  "cells": [
    {
      "cell_type": "markdown",
      "source": [
        "# Module 2: Colab Assignment"
      ],
      "metadata": {
        "id": "t3MCi5oF3fzN"
      }
    },
    {
      "cell_type": "markdown",
      "source": [
        "## Become familiar using a Colab notebook"
      ],
      "metadata": {
        "id": "0IZswT6b4qzy"
      }
    },
    {
      "cell_type": "markdown",
      "source": [
        "**Problem 1: (20 pts)**\n",
        "\n",
        "Import `numpy` as `np` and `pandas` as `pd`\n"
      ],
      "metadata": {
        "id": "fx6lhhlIyjLa"
      }
    },
    {
      "cell_type": "code",
      "execution_count": null,
      "metadata": {
        "id": "vQSOCmVTwEwC"
      },
      "outputs": [],
      "source": [
        "\n"
      ]
    },
    {
      "cell_type": "markdown",
      "source": [
        "**Problem 2: (40 pts)**\n",
        "\n",
        "Create a simple DataFrame as follows:\n",
        "\n",
        "\n",
        "1. Create a 5x3 NumPy array\n",
        "2. Create a Python list that contains the column names (three columns in total)\n",
        "3. Create a DataFrame\n",
        "4. Print the DataFrame\n"
      ],
      "metadata": {
        "id": "VN80I_o9zbcs"
      }
    },
    {
      "cell_type": "code",
      "source": [
        "#Step 1\n"
      ],
      "metadata": {
        "id": "Y1450SL23I4r"
      },
      "execution_count": null,
      "outputs": []
    },
    {
      "cell_type": "code",
      "source": [
        "#Step 2\n"
      ],
      "metadata": {
        "id": "VYKUlB214tL5"
      },
      "execution_count": null,
      "outputs": []
    },
    {
      "cell_type": "code",
      "source": [
        "#Step 3\n"
      ],
      "metadata": {
        "id": "UY1XdVxE5QxK"
      },
      "execution_count": null,
      "outputs": []
    },
    {
      "cell_type": "code",
      "source": [
        "#Step 4\n"
      ],
      "metadata": {
        "id": "KrHGhnoA55w5"
      },
      "execution_count": null,
      "outputs": []
    },
    {
      "cell_type": "markdown",
      "source": [
        "**Problem 3: (20 pts)**\n",
        "\n",
        "1. Write a function to convert seconds into minutes (output should be an integer number).\n",
        "2. Provide an example using this function and show on the screen the `input` and `output`. For example:\n",
        "\n",
        "`Input: Seconds = 125 `\n",
        "\n",
        "`Output: Minutes = 2`\n"
      ],
      "metadata": {
        "id": "qm876xFp6il9"
      }
    },
    {
      "cell_type": "code",
      "source": [
        "#Step 1\n"
      ],
      "metadata": {
        "id": "ocX8f1Ri7qvK"
      },
      "execution_count": null,
      "outputs": []
    },
    {
      "cell_type": "code",
      "source": [
        "#Step 2\n"
      ],
      "metadata": {
        "id": "XXLZuyam_5eA"
      },
      "execution_count": null,
      "outputs": []
    },
    {
      "cell_type": "markdown",
      "source": [
        "**Problem 4: (20 pts)**\n",
        "\n",
        "Load the CSV data file as follows:\n",
        "\n",
        "1. Find the data file on Canvas. \n",
        "\n",
        "   Go to `Files` -> `Data Files` -> `SOCR-HeightWeight.csv`\n",
        "\n",
        "2. Upload the CSV file in Colab \n",
        "3. Load the CSV file into a DataFrame named `df`\n",
        "3. Print the DataFrame `df`"
      ],
      "metadata": {
        "id": "sSavgfsvcX2A"
      }
    },
    {
      "cell_type": "code",
      "source": [
        "#Step 3: To run this you need to do step 1 & 2 first.\n",
        "\n"
      ],
      "metadata": {
        "id": "yo8TmOXUcWiB"
      },
      "execution_count": null,
      "outputs": []
    },
    {
      "cell_type": "code",
      "source": [
        "#Step 4\n",
        "\n"
      ],
      "metadata": {
        "id": "yFfi4I0tngsb"
      },
      "execution_count": null,
      "outputs": []
    }
  ]
}