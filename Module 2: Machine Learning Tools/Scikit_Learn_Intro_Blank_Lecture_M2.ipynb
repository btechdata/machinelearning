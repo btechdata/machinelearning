{
  "nbformat": 4,
  "nbformat_minor": 0,
  "metadata": {
    "colab": {
      "name": "Scikit_Learn_Intro-Blank-Lecture-M2.ipynb",
      "provenance": [],
      "collapsed_sections": []
    },
    "kernelspec": {
      "name": "python3",
      "display_name": "Python 3"
    },
    "language_info": {
      "name": "python"
    }
  },
  "cells": [
    {
      "cell_type": "markdown",
      "source": [
        "# Introduction to Scikit-Learn (Template)\n",
        "\n",
        "This template will help you have/write your own version for the Introduction to Scikit-Learn "
      ],
      "metadata": {
        "id": "fnbypTsopeCl"
      }
    },
    {
      "cell_type": "markdown",
      "source": [
        "Source: Colab tutorial about Scikit-Learn (https://colab.research.google.com/github/jakevdp/PythonDataScienceHandbook/blob/master/notebooks/05.02-Introducing-Scikit-Learn.ipynb)"
      ],
      "metadata": {
        "id": "qWeEV67b01kH"
      }
    },
    {
      "cell_type": "markdown",
      "source": [
        "Importing the scikit-learn library"
      ],
      "metadata": {
        "id": "Mj4S_1zxqSdj"
      }
    },
    {
      "cell_type": "code",
      "source": [
        "#Complete this part\n",
        "\n"
      ],
      "metadata": {
        "id": "8o9gLE6MpfdW"
      },
      "execution_count": null,
      "outputs": []
    },
    {
      "cell_type": "markdown",
      "source": [
        "## Creating models from data using Scikit-learn library"
      ],
      "metadata": {
        "id": "-Vh-4GxBvf5w"
      }
    },
    {
      "cell_type": "markdown",
      "source": [
        "We need to discuss how data can be represented in order to use scikit-learn."
      ],
      "metadata": {
        "id": "4dBzK6IYv8wa"
      }
    },
    {
      "cell_type": "markdown",
      "source": [
        "**Data as a table**\n",
        "\n",
        "*  **Rows**: Represents the individual elements of the dataset referred as ***samples*** and the number of ros as ***n_samples***.\n",
        "*  **Columns**: Represents quantities related to each of those individual elements referred as ***features*** and the number of columns as ***n_features***.\n",
        "\n",
        "\n",
        "\n"
      ],
      "metadata": {
        "id": "Zb4vh-GVxkp_"
      }
    },
    {
      "cell_type": "markdown",
      "source": [
        "**Now we will relate the data table to the variables**\n",
        "\n",
        "\n",
        "*   A two-dimensional with shape **[n_samples, n_features]** is called *feature matrix* stored in the variable **X**.\n",
        "*   A label or target array is necessary as well. \n",
        "*   A two-dimensional with shape **[n_samples, n_targets]** is called target array handling multiple targets.\n",
        "*   Common case is one-dimensional target array stored in the variable **y**.\n"
      ],
      "metadata": {
        "id": "wsyY3-k61yGB"
      }
    },
    {
      "cell_type": "markdown",
      "source": [
        "Here is a representation of the data (source from intro to Scikit-learn from Colab)"
      ],
      "metadata": {
        "id": "Zhd6hhWKGGfo"
      }
    },
    {
      "cell_type": "markdown",
      "source": [
        "![matrix.PNG](data:image/png;base64,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)"
      ],
      "metadata": {
        "id": "7GD8-i7FATiQ"
      }
    },
    {
      "cell_type": "markdown",
      "source": [
        "## Find the shape of the feature matrix (X) and the target vector (y)"
      ],
      "metadata": {
        "id": "LjcCpHmPI77n"
      }
    },
    {
      "cell_type": "markdown",
      "source": [
        "We use `.shape()` to find the shape for the variables `X` and `y`as follows:"
      ],
      "metadata": {
        "id": "0ZzFP_9KJQdR"
      }
    },
    {
      "cell_type": "code",
      "source": [
        "#Complete this part\n",
        "\n"
      ],
      "metadata": {
        "id": "L1RfEYxxI7LE"
      },
      "execution_count": null,
      "outputs": []
    },
    {
      "cell_type": "markdown",
      "source": [
        "## Preparing train and test datasets\n",
        "\n",
        "Scikit-Learn provides tools for partitioning data to split the data into a training and testing dataset.\n",
        "\n",
        "In machine learning, we usually partition our data as 70% for training set and 30% for testing set."
      ],
      "metadata": {
        "id": "uoOaoBniBsb3"
      }
    },
    {
      "cell_type": "markdown",
      "source": [
        "**X** refers to the feature matrix\n",
        "\n",
        "**y** refers to the target array"
      ],
      "metadata": {
        "id": "BnAd_xY1DDQ3"
      }
    },
    {
      "cell_type": "markdown",
      "source": [
        "When we split the data into training and testing sets using Scikit-Learn, we do the following:"
      ],
      "metadata": {
        "id": "jCadJlHODd0F"
      }
    },
    {
      "cell_type": "code",
      "source": [
        "#Complete this part\n",
        "\n"
      ],
      "metadata": {
        "id": "EaS9r7dgEFhy"
      },
      "execution_count": null,
      "outputs": []
    },
    {
      "cell_type": "code",
      "source": [
        "#Complete this part\n",
        "\n"
      ],
      "metadata": {
        "id": "Gzzq2BPJAnnK"
      },
      "execution_count": null,
      "outputs": []
    }
  ]
}