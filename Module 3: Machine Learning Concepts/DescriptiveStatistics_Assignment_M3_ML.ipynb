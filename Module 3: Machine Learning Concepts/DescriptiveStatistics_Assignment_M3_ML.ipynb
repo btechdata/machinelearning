{
  "nbformat": 4,
  "nbformat_minor": 0,
  "metadata": {
    "colab": {
      "name": "DescriptiveStatistics_Assignment-M3-ML.ipynb",
      "provenance": [],
      "collapsed_sections": []
    },
    "kernelspec": {
      "name": "python3",
      "display_name": "Python 3"
    },
    "language_info": {
      "name": "python"
    }
  },
  "cells": [
    {
      "cell_type": "markdown",
      "source": [
        "# Module 3 - Descriptive Statistics Assignment\n",
        "\n",
        "For this assignment, you will use the `SOCR-HeightWeight.csv` dataset and some different functions on the **Weight** variable.\n"
      ],
      "metadata": {
        "id": "uGoWAzwINhvv"
      }
    },
    {
      "cell_type": "markdown",
      "source": [
        "## Measures of Central Tendency"
      ],
      "metadata": {
        "id": "8vQd25VCNuA8"
      }
    },
    {
      "cell_type": "markdown",
      "source": [
        "### **Note:**\n",
        "\n",
        "Obtain the mean, median and mode."
      ],
      "metadata": {
        "id": "1FH9qg92PjzR"
      }
    },
    {
      "cell_type": "code",
      "execution_count": null,
      "metadata": {
        "id": "MVV5sybrNZ00"
      },
      "outputs": [],
      "source": [
        "#Import pandas \n",
        "\n"
      ]
    },
    {
      "cell_type": "code",
      "source": [
        "#Load the dataset and show part of it with .head()\n",
        "\n"
      ],
      "metadata": {
        "id": "BEBCPFy6OG5l"
      },
      "execution_count": null,
      "outputs": []
    },
    {
      "cell_type": "markdown",
      "source": [
        "Find the mean, median and mode. Use:\n",
        "\n",
        "\n",
        "*   `.mean()` for finding the mean\n",
        "*   `.median()` for finding the mean\n",
        "*   `.mode()` for finding the mode\n",
        "\n"
      ],
      "metadata": {
        "id": "TnDwhuLLP8t5"
      }
    },
    {
      "cell_type": "code",
      "source": [
        "#Find and print the mean of the variable WEIGHT\n",
        "\n",
        "\n"
      ],
      "metadata": {
        "id": "kg_G-Q-MPKDl"
      },
      "execution_count": null,
      "outputs": []
    },
    {
      "cell_type": "code",
      "source": [
        "#Find and print the median of the variable WEIGHT\n",
        "\n"
      ],
      "metadata": {
        "id": "VljKOL2YQhLq"
      },
      "execution_count": null,
      "outputs": []
    },
    {
      "cell_type": "code",
      "source": [
        "#Find and print the mode of the variable WEIGHT\n",
        "\n"
      ],
      "metadata": {
        "id": "kEkQk6B0Rmt8"
      },
      "execution_count": null,
      "outputs": []
    },
    {
      "cell_type": "markdown",
      "source": [
        "# Measures of Variability"
      ],
      "metadata": {
        "id": "2yxo4-41TG06"
      }
    },
    {
      "cell_type": "markdown",
      "source": [
        "### **Note:**\n",
        "\n",
        "Obtain the standard deviation, min, max, range, quantiles and variance.\n",
        "\n",
        "Use the following functions:\n",
        "\n",
        "*   `.std()` for finding the standard deviation\n",
        "*   `.min()` for finding the min\n",
        "*   `.max()` for finding the max\n",
        "*   `.quantile()` for finding the quantiles\n",
        "*   '`variance() function` for finding the variance\n",
        "\n"
      ],
      "metadata": {
        "id": "ryiXit23Tdd4"
      }
    },
    {
      "cell_type": "code",
      "source": [
        "#Find and print the standard deviation and round it to 2 decimal places\n",
        "\n",
        "\n"
      ],
      "metadata": {
        "id": "pXh2PqHLUiFE"
      },
      "execution_count": null,
      "outputs": []
    },
    {
      "cell_type": "code",
      "source": [
        "#Find and print the min and round it to 2 decimal places\n",
        "\n"
      ],
      "metadata": {
        "id": "_v1ushX9Vdsq"
      },
      "execution_count": null,
      "outputs": []
    },
    {
      "cell_type": "code",
      "source": [
        "#Find and print the max and round it to 2 decimal places\n",
        "\n"
      ],
      "metadata": {
        "id": "TUfggBabVdxm"
      },
      "execution_count": null,
      "outputs": []
    },
    {
      "cell_type": "code",
      "source": [
        "#Find and print the range. We use MAX - MIN = RANGE and round it to 2 decimal places\n",
        "\n"
      ],
      "metadata": {
        "id": "eMP5VxrTXHQB"
      },
      "execution_count": null,
      "outputs": []
    },
    {
      "cell_type": "code",
      "source": [
        "#Find and print the quantiles and round it to 2 decimal places\n",
        "\n"
      ],
      "metadata": {
        "id": "bGxeGS6hXj6A"
      },
      "execution_count": null,
      "outputs": []
    },
    {
      "cell_type": "markdown",
      "source": [
        "Now find the variance. For this part, create a function as follows:"
      ],
      "metadata": {
        "id": "zGbTGhskZY8G"
      }
    },
    {
      "cell_type": "code",
      "source": [
        "#Find the variance\n",
        "#Write a Variance function\n",
        "\n",
        "\n",
        "\n"
      ],
      "metadata": {
        "id": "LeXwW3OYYL5m"
      },
      "execution_count": null,
      "outputs": []
    },
    {
      "cell_type": "code",
      "source": [
        "#Apply the variance function to the Weight data and print the results\n",
        "\n"
      ],
      "metadata": {
        "id": "tPCUmW1oHavW"
      },
      "execution_count": null,
      "outputs": []
    },
    {
      "cell_type": "markdown",
      "source": [
        "# **Summary statistics**"
      ],
      "metadata": {
        "id": "8yE0PLWKedGy"
      }
    },
    {
      "cell_type": "markdown",
      "source": [
        "Find the summary statistics for all numerical columns"
      ],
      "metadata": {
        "id": "3nx_ukKbegOV"
      }
    },
    {
      "cell_type": "code",
      "source": [
        "#Find and print the summary statistics for all numerical columns and round it to 0 decimal places\n",
        "\n"
      ],
      "metadata": {
        "id": "gQbBSrcDenYv"
      },
      "execution_count": null,
      "outputs": []
    }
  ]
}