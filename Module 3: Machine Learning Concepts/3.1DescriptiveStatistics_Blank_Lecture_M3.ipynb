{
  "nbformat": 4,
  "nbformat_minor": 0,
  "metadata": {
    "colab": {
      "name": "DescriptiveStatistics_Blank-Lecture_M3.ipynb",
      "provenance": [],
      "collapsed_sections": []
    },
    "kernelspec": {
      "name": "python3",
      "display_name": "Python 3"
    },
    "language_info": {
      "name": "python"
    }
  },
  "cells": [
    {
      "cell_type": "markdown",
      "source": [
        "# Descriptive Statistics-Lecture Template\n",
        "\n",
        "We will use the `SOCR-HeightWeight.csv` dataset and we will use different functions on the Height variable."
      ],
      "metadata": {
        "id": "uGoWAzwINhvv"
      }
    },
    {
      "cell_type": "markdown",
      "source": [
        "## Measures of Central Tendency"
      ],
      "metadata": {
        "id": "8vQd25VCNuA8"
      }
    },
    {
      "cell_type": "markdown",
      "source": [
        "### **Note:**\n",
        "\n",
        "We will obtain the mean, median and mode."
      ],
      "metadata": {
        "id": "1FH9qg92PjzR"
      }
    },
    {
      "cell_type": "code",
      "execution_count": null,
      "metadata": {
        "id": "MVV5sybrNZ00"
      },
      "outputs": [],
      "source": [
        "#Import pandas \n"
      ]
    },
    {
      "cell_type": "code",
      "source": [
        "#Load the dataset and show part of it\n",
        "\n"
      ],
      "metadata": {
        "id": "BEBCPFy6OG5l"
      },
      "execution_count": null,
      "outputs": []
    },
    {
      "cell_type": "markdown",
      "source": [
        "Finding the mean, median and mode. We will use:\n",
        "\n",
        "\n",
        "*   `.mean()` for finding the mean\n",
        "*   `.median()` for finding the mean\n",
        "*   `.mode()` for finding the mode\n",
        "\n"
      ],
      "metadata": {
        "id": "TnDwhuLLP8t5"
      }
    },
    {
      "cell_type": "code",
      "source": [
        "#Find the mean of the variable HEIGHT\n",
        "\n",
        "\n"
      ],
      "metadata": {
        "id": "kg_G-Q-MPKDl"
      },
      "execution_count": null,
      "outputs": []
    },
    {
      "cell_type": "code",
      "source": [
        "#Find the median of the variable HEIGHT\n",
        "\n"
      ],
      "metadata": {
        "id": "VljKOL2YQhLq"
      },
      "execution_count": null,
      "outputs": []
    },
    {
      "cell_type": "code",
      "source": [
        "#Find the mode of the variable HEIGHT\n",
        "\n"
      ],
      "metadata": {
        "id": "kEkQk6B0Rmt8"
      },
      "execution_count": null,
      "outputs": []
    },
    {
      "cell_type": "markdown",
      "source": [
        "# Measures of Variability"
      ],
      "metadata": {
        "id": "2yxo4-41TG06"
      }
    },
    {
      "cell_type": "markdown",
      "source": [
        "### **Note:**\n",
        "\n",
        "We will obtain the standard deviation, min, max, range, quantiles and variance.\n",
        "\n",
        "We will use the following functions:\n",
        "\n",
        "*   `.std()` for finding the standard deviation\n",
        "*   `.min()` for finding the min\n",
        "*   `.max()` for finding the max\n",
        "*   `.quantile()` for finding the quantiles\n",
        "*   '`variance() function` for finding the variance\n",
        "\n"
      ],
      "metadata": {
        "id": "ryiXit23Tdd4"
      }
    },
    {
      "cell_type": "code",
      "source": [
        "#Finding the standard deviation\n",
        "\n",
        "\n"
      ],
      "metadata": {
        "id": "pXh2PqHLUiFE"
      },
      "execution_count": null,
      "outputs": []
    },
    {
      "cell_type": "code",
      "source": [
        "#Finding the min\n",
        "\n"
      ],
      "metadata": {
        "id": "_v1ushX9Vdsq"
      },
      "execution_count": null,
      "outputs": []
    },
    {
      "cell_type": "code",
      "source": [
        "#Finding the max\n",
        "\n"
      ],
      "metadata": {
        "id": "TUfggBabVdxm"
      },
      "execution_count": null,
      "outputs": []
    },
    {
      "cell_type": "code",
      "source": [
        "#Finding the range. We use MAX - MIN = RANGE\n",
        "\n"
      ],
      "metadata": {
        "id": "eMP5VxrTXHQB"
      },
      "execution_count": null,
      "outputs": []
    },
    {
      "cell_type": "code",
      "source": [
        "#Finding the quantiles\n",
        "\n"
      ],
      "metadata": {
        "id": "bGxeGS6hXj6A"
      },
      "execution_count": null,
      "outputs": []
    },
    {
      "cell_type": "markdown",
      "source": [
        "Now we will find the variance. For this part, we will create a function as follows:"
      ],
      "metadata": {
        "id": "zGbTGhskZY8G"
      }
    },
    {
      "cell_type": "code",
      "source": [
        "#Finding the variance\n",
        "#Variance function\n",
        "\n",
        "\n",
        "\n"
      ],
      "metadata": {
        "id": "LeXwW3OYYL5m"
      },
      "execution_count": null,
      "outputs": []
    },
    {
      "cell_type": "code",
      "source": [
        "#Applying the variance function to the Height data\n",
        "\n"
      ],
      "metadata": {
        "id": "tPCUmW1oHavW"
      },
      "execution_count": null,
      "outputs": []
    },
    {
      "cell_type": "markdown",
      "source": [
        "# **Summary statistics**\n"
      ],
      "metadata": {
        "id": "9LmOtYSNWxP3"
      }
    },
    {
      "cell_type": "markdown",
      "source": [
        "Here we will find the summary statistics using the following functions:\n",
        "\n",
        "*  `.describe()` for all numerical columns (Case 1)\n",
        "*  `.groupby()` and `.describe()` by groups (Case 2)\n"
      ],
      "metadata": {
        "id": "I_dhuHLbW8LD"
      }
    },
    {
      "cell_type": "markdown",
      "source": [
        "### **Case 1:**\n",
        "\n",
        "Here we find the summary statistics for all numerical columns"
      ],
      "metadata": {
        "id": "bLnJudiuYu-g"
      }
    },
    {
      "cell_type": "code",
      "source": [
        "#Find the summary statistics for all numerical columns and round it to 3 decimal places\n",
        "\n"
      ],
      "metadata": {
        "id": "hVmIcXYsWv5j"
      },
      "execution_count": null,
      "outputs": []
    },
    {
      "cell_type": "markdown",
      "source": [
        "### **Case 2:**\n",
        "\n",
        "Here we find the summary statistics for specific groups"
      ],
      "metadata": {
        "id": "M6o1IMJmZ8Ck"
      }
    },
    {
      "cell_type": "code",
      "source": [
        "#Find the summary statistics for specific groups\n",
        "\n"
      ],
      "metadata": {
        "id": "CejMKwx1aLZB"
      },
      "execution_count": null,
      "outputs": []
    }
  ]
}