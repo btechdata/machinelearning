{
  "nbformat": 4,
  "nbformat_minor": 0,
  "metadata": {
    "colab": {
      "name": "Math_Concepts_Blank-Lecture_M3.ipynb",
      "provenance": [],
      "collapsed_sections": []
    },
    "kernelspec": {
      "name": "python3",
      "display_name": "Python 3"
    },
    "language_info": {
      "name": "python"
    }
  },
  "cells": [
    {
      "cell_type": "markdown",
      "source": [
        "# Module 3: Math Concepts - Lecture Template"
      ],
      "metadata": {
        "id": "grur9J1IwAGz"
      }
    },
    {
      "cell_type": "markdown",
      "source": [
        "## **Basic Algebra**"
      ],
      "metadata": {
        "id": "7SuUwEi0C4p_"
      }
    },
    {
      "cell_type": "markdown",
      "source": [
        "Extra resource: \n",
        "\n",
        "*   `matplotlib.pyplot.plot` : https://matplotlib.org/stable/api/_as_gen/matplotlib.pyplot.plot.html\n"
      ],
      "metadata": {
        "id": "LQST_xM86IEI"
      }
    },
    {
      "cell_type": "markdown",
      "source": [
        "For this section, we will learn how to use `matplotlib`. Matplotlib is a graph plotting library in Python.\n",
        "\n",
        "We will graph a line as an example."
      ],
      "metadata": {
        "id": "lo9gBX0kw82-"
      }
    },
    {
      "cell_type": "code",
      "source": [
        "#Import the library and the Pyplot package \n",
        "\n",
        "\n",
        "\n",
        "#Import also numpy\n",
        "\n"
      ],
      "metadata": {
        "id": "bp6iRRmYx-tY"
      },
      "execution_count": null,
      "outputs": []
    },
    {
      "cell_type": "markdown",
      "source": [
        "As we know, the standard form of a linear function is: `y = mx + b` where `m` is the slope and `b` is the y-intercept.\n",
        "To graph a line, we need at least two points: (x1, y1) and (x2, y2)."
      ],
      "metadata": {
        "id": "xVK6LZbAzw_X"
      }
    },
    {
      "cell_type": "code",
      "source": [
        "#We plot a line from (x1, y1)=(0, 0) to (x2, y2)=(4, 12). \n",
        "#When a line starts at (0,0), we say that the line starts at the origin.\n",
        "\n"
      ],
      "metadata": {
        "id": "9pmrLwwc1qbQ"
      },
      "execution_count": null,
      "outputs": []
    },
    {
      "cell_type": "markdown",
      "source": [
        "Now we plot `x_points` and `y_points` using `plt.plot()` and we show the graph using `plt.show()`."
      ],
      "metadata": {
        "id": "MgeN6p2w4YWH"
      }
    },
    {
      "cell_type": "code",
      "source": [
        "#Plot\n"
      ],
      "metadata": {
        "id": "sXWCDIGy3rp8"
      },
      "execution_count": null,
      "outputs": []
    },
    {
      "cell_type": "markdown",
      "source": [
        "### **Option 1:**\n",
        "\n",
        "Now we find the slope `m` of the line. We find this slope using the two points (x1, y1) and (x2, y2) as follows: \n",
        "\n",
        "`m = (y2 - y1)/(x2 - x1)`"
      ],
      "metadata": {
        "id": "ZzNsIS317V3X"
      }
    },
    {
      "cell_type": "code",
      "source": [
        "#Here we use the slope formula\n",
        "\n"
      ],
      "metadata": {
        "id": "e96nOUgr8Dxd"
      },
      "execution_count": null,
      "outputs": []
    },
    {
      "cell_type": "markdown",
      "source": [
        "In order to find the standard form of the linear function, we need to find `m` and `b`. We already found `m = 3.0`. We find `b` as follows:\n",
        "\n",
        "1.   We choose one of the points. For example: (x2, y2)= (4, 12).\n",
        "2.   We use the point, the slope and the standard formula as follows:\n",
        "\n",
        "> `y = mx + b`\n",
        "\n",
        "Using the point (4, 12), we get:\n",
        "\n",
        "> `y2 = m*(x2) + b`\n",
        "\n",
        "> `12 = (3)*(4) + b`\n",
        "\n",
        "> `12 = 12 + b`  Then `b=0`\n"
      ],
      "metadata": {
        "id": "LJVv1ocj89Up"
      }
    },
    {
      "cell_type": "markdown",
      "source": [
        "Then, we get the following: `y = 3x + 0`."
      ],
      "metadata": {
        "id": "2Qz3r618EGRc"
      }
    },
    {
      "cell_type": "markdown",
      "source": [
        "### **Option 2:**\n",
        "\n",
        "We can also create a function to find `m` and `b` using two points:"
      ],
      "metadata": {
        "id": "DOL9DQIGwSO6"
      }
    },
    {
      "cell_type": "code",
      "source": [
        "#Function\n",
        "\n"
      ],
      "metadata": {
        "id": "2NS5UdkbAIYj"
      },
      "execution_count": null,
      "outputs": []
    },
    {
      "cell_type": "code",
      "source": [
        "#Call m and b\n"
      ],
      "metadata": {
        "id": "69k64b3JSwNU"
      },
      "execution_count": null,
      "outputs": []
    },
    {
      "cell_type": "code",
      "source": [
        "#Print m, b and y=mx+b\n",
        "\n"
      ],
      "metadata": {
        "id": "lhs4SDuGBHs8"
      },
      "execution_count": null,
      "outputs": []
    },
    {
      "cell_type": "markdown",
      "source": [
        "## **Linear Algebra**"
      ],
      "metadata": {
        "id": "ffKsNborwXLJ"
      }
    },
    {
      "cell_type": "markdown",
      "source": [
        "For this section, we will practice some vector operations using Python."
      ],
      "metadata": {
        "id": "ooJUVldxE2VQ"
      }
    },
    {
      "cell_type": "markdown",
      "source": [
        "### **Create a vector**\n",
        "\n",
        "For this, we need to import `numpy`."
      ],
      "metadata": {
        "id": "C7ulDLfvFTAI"
      }
    },
    {
      "cell_type": "code",
      "execution_count": null,
      "metadata": {
        "id": "dKvZp2Nau3Wq"
      },
      "outputs": [],
      "source": [
        "#We create a vector v=[v1, v2, v3] (single dimensional array)\n",
        "\n",
        "\n",
        "\n",
        "#Horizontal vector\n"
      ]
    },
    {
      "cell_type": "code",
      "source": [
        "#We show the shape of the vector. \n",
        "#We get that the array has two dimensions (first dimension,second dimension)\n",
        "\n"
      ],
      "metadata": {
        "id": "gTGuy7CdGGTS"
      },
      "execution_count": null,
      "outputs": []
    },
    {
      "cell_type": "markdown",
      "source": [
        "**Another similar example:**"
      ],
      "metadata": {
        "id": "zoYjlL0QI4vM"
      }
    },
    {
      "cell_type": "code",
      "source": [
        "#Vertical vector\n"
      ],
      "metadata": {
        "id": "Hb79CXr1JEDl"
      },
      "execution_count": null,
      "outputs": []
    },
    {
      "cell_type": "code",
      "source": [
        "#Shape of the vertical vector\n"
      ],
      "metadata": {
        "id": "Xbl563-XJEUU"
      },
      "execution_count": null,
      "outputs": []
    },
    {
      "cell_type": "markdown",
      "source": [
        "### **Adding and subtracting vectors**"
      ],
      "metadata": {
        "id": "mwDC8OsVOBRk"
      }
    },
    {
      "cell_type": "markdown",
      "source": [
        "Create two horizontal vectors:\n",
        "\n",
        "* v1 = [1,4,7]\n",
        "* v2 = [0,2,5]\n",
        "\n",
        "(*We already imported `numpy`)"
      ],
      "metadata": {
        "id": "ghjIPItROjTj"
      }
    },
    {
      "cell_type": "code",
      "source": [
        "#Create the two vectors\n",
        "\n"
      ],
      "metadata": {
        "id": "AVHeZ0bYNSkz"
      },
      "execution_count": null,
      "outputs": []
    },
    {
      "cell_type": "code",
      "source": [
        "#Print the two vectors\n",
        "\n"
      ],
      "metadata": {
        "id": "4kDL1LG3Pfnh"
      },
      "execution_count": null,
      "outputs": []
    },
    {
      "cell_type": "markdown",
      "source": [
        "**Adding vectors**"
      ],
      "metadata": {
        "id": "tsfR-RNFOUJI"
      }
    },
    {
      "cell_type": "code",
      "source": [
        "#Add V = v1 + v2\n",
        "\n"
      ],
      "metadata": {
        "id": "qXDfur9-O4BF"
      },
      "execution_count": null,
      "outputs": []
    },
    {
      "cell_type": "markdown",
      "source": [
        "**Subtracting vectors**"
      ],
      "metadata": {
        "id": "SaXJNpYhQv3W"
      }
    },
    {
      "cell_type": "code",
      "source": [
        "#Subtract W = v1 - v2\n",
        "\n"
      ],
      "metadata": {
        "id": "PyL69DjCQuPw"
      },
      "execution_count": null,
      "outputs": []
    },
    {
      "cell_type": "markdown",
      "source": [
        "**Dot product**\n",
        "\n",
        "*   Uses the numpy package `.dot()`\n",
        "*   Let v=[v1, v2, v3] and w=[w1, w2, w3]\n",
        "*   We multiply each vector's element and we sum them as follows: \n",
        "    \n",
        "    v\\*w = (v1\\*w1) + (v2\\*w2) + (v3\\*w3)\n",
        "\n",
        "*   The output of a dot product is a scalar number\n",
        "\n"
      ],
      "metadata": {
        "id": "XSdNshdrO3W4"
      }
    },
    {
      "cell_type": "code",
      "source": [
        "#Find the dot product of v1 and v2\n"
      ],
      "metadata": {
        "id": "t7U5RvqmReNX"
      },
      "execution_count": null,
      "outputs": []
    },
    {
      "cell_type": "markdown",
      "source": [
        "**Multiplying a vector by a scalar**"
      ],
      "metadata": {
        "id": "vuVNi1ziUU4F"
      }
    },
    {
      "cell_type": "code",
      "source": [
        "#Calculate M = 5*v1\n",
        "\n"
      ],
      "metadata": {
        "id": "VQHqiOZCUBlR"
      },
      "execution_count": null,
      "outputs": []
    },
    {
      "cell_type": "markdown",
      "source": [
        "### **Create a matrix**\n",
        "\n",
        "\n",
        "A matrix is a two-dimensional data structure. It has rows and columns."
      ],
      "metadata": {
        "id": "barIwEYrWCg2"
      }
    },
    {
      "cell_type": "code",
      "source": [
        "#First, we create a list of a list as a matrix\n",
        "#Create a 2x3 matrix\n",
        "\n",
        "\n"
      ],
      "metadata": {
        "id": "AA-l_lSMVeSE"
      },
      "execution_count": null,
      "outputs": []
    },
    {
      "cell_type": "markdown",
      "source": [
        "**Adding and subtracting two matrices**\n",
        "\n",
        "For adding two matrices, both matrices should have the same dimensions."
      ],
      "metadata": {
        "id": "J6-u1IKuZODd"
      }
    },
    {
      "cell_type": "code",
      "source": [
        "#Find the sum of C = A + B\n",
        "\n"
      ],
      "metadata": {
        "id": "FYno9FQ0XKsj"
      },
      "execution_count": null,
      "outputs": []
    },
    {
      "cell_type": "code",
      "source": [
        "#Find the subtraction of D = A - B\n",
        "\n",
        "\n"
      ],
      "metadata": {
        "id": "7-he-8SMaHmb"
      },
      "execution_count": null,
      "outputs": []
    },
    {
      "cell_type": "markdown",
      "source": [
        "**Dot product between two matrices**"
      ],
      "metadata": {
        "id": "kT4op8Oeai5i"
      }
    },
    {
      "cell_type": "code",
      "source": [
        "#We create a list of a list as a matrix\n",
        "#Create a 2x2 matrix\n",
        "\n"
      ],
      "metadata": {
        "id": "HIrXCPOOcCFk"
      },
      "execution_count": null,
      "outputs": []
    },
    {
      "cell_type": "code",
      "source": [
        "#Find the dot product of Matrix A and Matrix B\n",
        "\n"
      ],
      "metadata": {
        "id": "rOXFDAgmafcp"
      },
      "execution_count": null,
      "outputs": []
    },
    {
      "cell_type": "markdown",
      "source": [
        "### **Create a tensor**"
      ],
      "metadata": {
        "id": "OzOsYXMad8vE"
      }
    },
    {
      "cell_type": "markdown",
      "source": [
        "A **tensor** is N-dimensional array. For example, a simple scalar number is a 0-dimensional tensor (it is also called rank-0) and a matrix is a 2-dimensional tensor (it is also called rank-2)."
      ],
      "metadata": {
        "id": "OR4-wvN46man"
      }
    },
    {
      "cell_type": "markdown",
      "source": [
        "First, to create basic tensors, we need to import `tensorflow` and `numpy`"
      ],
      "metadata": {
        "id": "F7_5hAMtAAeO"
      }
    },
    {
      "cell_type": "code",
      "source": [
        "#Import the libraries\n",
        "\n"
      ],
      "metadata": {
        "id": "7vAqKM2w6lAx"
      },
      "execution_count": null,
      "outputs": []
    },
    {
      "cell_type": "markdown",
      "source": [
        "A `tf.tensor` is an object with a unique label, dimension and data type.\n",
        "\n",
        "When we use TensorFlow, we have four tensor type such as `tf.sparseTensor`, `tf.placeholder`,`tf.constant`, and `tf.Variable`.\n",
        "\n",
        "In this tutorial, we will just use `tf.constant`. I inivite you to do youw own research about the other tensor types.\n",
        "\n"
      ],
      "metadata": {
        "id": "GiJQkm76HIfr"
      }
    },
    {
      "cell_type": "code",
      "source": [
        "#Create a rank-0 tensor\n",
        " \n"
      ],
      "metadata": {
        "id": "rRubnsrP6lJt"
      },
      "execution_count": null,
      "outputs": []
    },
    {
      "cell_type": "code",
      "source": [
        "#Create a rank-1 tensor (a vector)\n",
        "\n"
      ],
      "metadata": {
        "id": "NgSkPk5ZLIFa"
      },
      "execution_count": null,
      "outputs": []
    },
    {
      "cell_type": "code",
      "source": [
        "#Create a rank-2 tensor (a matrix)\n",
        "\n",
        "                            "
      ],
      "metadata": {
        "id": "FjbwIUPJMVt0"
      },
      "execution_count": null,
      "outputs": []
    },
    {
      "cell_type": "code",
      "source": [
        ""
      ],
      "metadata": {
        "id": "X2FGeUVdMV6i"
      },
      "execution_count": null,
      "outputs": []
    }
  ]
}