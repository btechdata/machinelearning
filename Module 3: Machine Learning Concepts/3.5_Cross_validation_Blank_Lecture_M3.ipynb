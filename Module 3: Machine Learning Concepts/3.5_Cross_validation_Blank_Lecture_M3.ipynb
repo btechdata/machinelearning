{
  "nbformat": 4,
  "nbformat_minor": 0,
  "metadata": {
    "colab": {
      "name": "3_5_Cross_validation_Blank_Lecture_M3.ipynb",
      "provenance": [],
      "collapsed_sections": []
    },
    "kernelspec": {
      "name": "python3",
      "display_name": "Python 3"
    },
    "language_info": {
      "name": "python"
    }
  },
  "cells": [
    {
      "cell_type": "markdown",
      "source": [
        "# MODULE 3: Cross-validation with Python - Blank Lecture"
      ],
      "metadata": {
        "id": "Akt9_r9MemYp"
      }
    },
    {
      "cell_type": "markdown",
      "source": [
        "In this tutorial, we will learn how to use the Cross-validation technique with Python for:\n",
        "\n",
        "*   Hold-Out cross-validation\n",
        "*   K-folds cross-validation\n",
        "*   Leave-One-Out cross-validation\n",
        "\n"
      ],
      "metadata": {
        "id": "r_N8qIiHMR7O"
      }
    },
    {
      "cell_type": "markdown",
      "source": [
        "As a quick note:\n",
        "\n",
        "General cases:\n",
        "\n",
        "*   Overfitting  --> occurs when we have high variance\n",
        "*   Underfitting --> occurs when we have high bias\n",
        "*   Good balance --> occurs when we have low bias and Low variance\n",
        "\n"
      ],
      "metadata": {
        "id": "k2X5x6ijOTfY"
      }
    },
    {
      "cell_type": "markdown",
      "source": [
        "### **Method 1: Hold-Out CV**\n",
        "\n",
        "* Step 1: Import `train_test_split` from `sklearn.model_selection`\n",
        "* Step 2: Load or create the dataset\n",
        "* Step 3: Decide the percentage of the split. For example, Training 70% and test 30% sets.\n",
        "* Step 4: Set: `X_train, X_test = train_test_split(Data_name, test_size=0.3, random_state=1)`\n",
        "* Step 4: Print the training and testing set.\n",
        "\n",
        "\n"
      ],
      "metadata": {
        "id": "eXUc6OaCO742"
      }
    },
    {
      "cell_type": "code",
      "execution_count": null,
      "metadata": {
        "id": "vWSnlgOfTlxU"
      },
      "outputs": [],
      "source": [
        "#Import the necessary library\n",
        "\n"
      ]
    },
    {
      "cell_type": "code",
      "source": [
        "#Load the dataset\n",
        "\n",
        "\n"
      ],
      "metadata": {
        "id": "mvZxeko_cmR7"
      },
      "execution_count": null,
      "outputs": []
    },
    {
      "cell_type": "code",
      "source": [
        "#Find X_train and X_test\n",
        "\n"
      ],
      "metadata": {
        "id": "IJNrqlWZcm4h"
      },
      "execution_count": null,
      "outputs": []
    },
    {
      "cell_type": "code",
      "source": [
        "#Print X_train and X_test\n",
        "\n"
      ],
      "metadata": {
        "id": "p3B_JCw8d-ME"
      },
      "execution_count": null,
      "outputs": []
    },
    {
      "cell_type": "markdown",
      "source": [
        "### **Method 2: K-fold CV**\n",
        "\n",
        "* Step 1: Import `KFold` from `sklearn.model_selection`\n",
        "* Step 2: Load or create the dataset\n",
        "* Step 3: Set KFold() and decide the number of splits (`n_splits`)\n",
        "* Step 4: Print the training and testing set."
      ],
      "metadata": {
        "id": "UGByi-ihg8Fx"
      }
    },
    {
      "cell_type": "code",
      "source": [
        "#Import the library\n",
        "\n"
      ],
      "metadata": {
        "id": "_nLjSG7Ggdel"
      },
      "execution_count": null,
      "outputs": []
    },
    {
      "cell_type": "code",
      "source": [
        "#Load data\n",
        "\n"
      ],
      "metadata": {
        "id": "JUfIbqoyhdo7"
      },
      "execution_count": null,
      "outputs": []
    },
    {
      "cell_type": "code",
      "source": [
        "#Find train and test sets with n_split=5\n",
        "\n"
      ],
      "metadata": {
        "id": "-L6V_riJhlk4"
      },
      "execution_count": null,
      "outputs": []
    },
    {
      "cell_type": "code",
      "source": [
        "#Find and print train and test sets with n_split=10\n",
        "\n"
      ],
      "metadata": {
        "id": "50ecBSQ0iFI3"
      },
      "execution_count": null,
      "outputs": []
    },
    {
      "cell_type": "markdown",
      "source": [
        "### **Method 3: Leave-One-Out CV**\n",
        "\n",
        "* Step 1: Import `LeaveOneOut` from `sklearn.model_selection`\n",
        "* Step 2: Load or create the dataset\n",
        "* Step 3: Set LeaveOneOut() \n",
        "* Step 4: Print the training and testing set."
      ],
      "metadata": {
        "id": "NP0NfAxzlch7"
      }
    },
    {
      "cell_type": "code",
      "source": [
        "#Import the library\n",
        "\n",
        "\n"
      ],
      "metadata": {
        "id": "ij7L43WDlaz3"
      },
      "execution_count": null,
      "outputs": []
    },
    {
      "cell_type": "code",
      "source": [
        "#Load dataset\n",
        "\n",
        "\n"
      ],
      "metadata": {
        "id": "Rq8W0_v4la8l"
      },
      "execution_count": null,
      "outputs": []
    },
    {
      "cell_type": "code",
      "source": [
        "#Find and print train and test set\n",
        "\n",
        "\n"
      ],
      "metadata": {
        "id": "LTtDh2ltmYFE"
      },
      "execution_count": null,
      "outputs": []
    },
    {
      "cell_type": "code",
      "source": [
        ""
      ],
      "metadata": {
        "id": "-2XGgOjRmYIj"
      },
      "execution_count": null,
      "outputs": []
    }
  ]
}