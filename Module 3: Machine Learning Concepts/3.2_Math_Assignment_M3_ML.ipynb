{
  "nbformat": 4,
  "nbformat_minor": 0,
  "metadata": {
    "colab": {
      "name": "Math_Assignment_M3_ML.ipynb",
      "provenance": [],
      "collapsed_sections": []
    },
    "kernelspec": {
      "name": "python3",
      "display_name": "Python 3"
    },
    "language_info": {
      "name": "python"
    }
  },
  "cells": [
    {
      "cell_type": "markdown",
      "source": [
        "# Module 3: Math Assignment (100 pts)\n",
        "\n"
      ],
      "metadata": {
        "id": "grur9J1IwAGz"
      }
    },
    {
      "cell_type": "markdown",
      "source": [
        "## **Basic Algebra**"
      ],
      "metadata": {
        "id": "7SuUwEi0C4p_"
      }
    },
    {
      "cell_type": "markdown",
      "source": [
        "### **Problem 1: (5 pts)**\n",
        "\n",
        "Import `matplotlib` and `numpy`."
      ],
      "metadata": {
        "id": "lo9gBX0kw82-"
      }
    },
    {
      "cell_type": "code",
      "source": [
        "#Import the library and the Pyplot package \n",
        "\n"
      ],
      "metadata": {
        "id": "bp6iRRmYx-tY"
      },
      "execution_count": null,
      "outputs": []
    },
    {
      "cell_type": "markdown",
      "source": [
        "### **Problem 2: (5 pts)**\n",
        "\n",
        "Graph a line, you need at least two points: (x1, y1)=(2, 5) and (x2, y2)=(9, 22)."
      ],
      "metadata": {
        "id": "xVK6LZbAzw_X"
      }
    },
    {
      "cell_type": "code",
      "source": [
        "#Set your variables for the x-points and y-points.\n",
        "\n",
        "  "
      ],
      "metadata": {
        "id": "9pmrLwwc1qbQ"
      },
      "execution_count": null,
      "outputs": []
    },
    {
      "cell_type": "markdown",
      "source": [
        "### **Problem 3: (10 pts)**\n",
        "\n",
        "Plot your (x,y) points using `plt.plot()` and we show the graph using `plt.show()`."
      ],
      "metadata": {
        "id": "MgeN6p2w4YWH"
      }
    },
    {
      "cell_type": "code",
      "source": [
        "#Plot the line\n"
      ],
      "metadata": {
        "id": "sXWCDIGy3rp8"
      },
      "execution_count": null,
      "outputs": []
    },
    {
      "cell_type": "markdown",
      "source": [
        "### **Problem 4: (10 pts)**\n",
        "\n",
        "Find the slope `m` of the line and the y-intercept `b` using the two points (x1, y1) and (x2, y2). You can use any of those two options from the lecture video. Round the answers to 2 decimals.\n",
        "\n"
      ],
      "metadata": {
        "id": "ZzNsIS317V3X"
      }
    },
    {
      "cell_type": "code",
      "source": [
        "#Answer\n"
      ],
      "metadata": {
        "id": "slPU2H3zSq3u"
      },
      "execution_count": null,
      "outputs": []
    },
    {
      "cell_type": "markdown",
      "source": [
        "### **Problem 5: (10 pts)**\n",
        "\n",
        "Write the standard form of the line using the information above."
      ],
      "metadata": {
        "id": "ucZoNBK-TlPp"
      }
    },
    {
      "cell_type": "code",
      "source": [
        "#Print the standard form\n"
      ],
      "metadata": {
        "id": "v636_MITYIp4"
      },
      "execution_count": null,
      "outputs": []
    },
    {
      "cell_type": "markdown",
      "source": [
        "## **Linear Algebra**"
      ],
      "metadata": {
        "id": "ffKsNborwXLJ"
      }
    },
    {
      "cell_type": "markdown",
      "source": [
        "Vector operations using Python."
      ],
      "metadata": {
        "id": "ooJUVldxE2VQ"
      }
    },
    {
      "cell_type": "markdown",
      "source": [
        "### **Problem 6: (10 pts)**\n",
        "\n",
        "**Create a vector**\n",
        "\n",
        "First, import `numpy` and create two horizontal vectors called `v1` and`v2`."
      ],
      "metadata": {
        "id": "C7ulDLfvFTAI"
      }
    },
    {
      "cell_type": "code",
      "execution_count": null,
      "metadata": {
        "id": "dKvZp2Nau3Wq"
      },
      "outputs": [],
      "source": [
        "#Import numpy and create two horizontal vectors\n",
        "\n"
      ]
    },
    {
      "cell_type": "markdown",
      "source": [
        "### **Problem 7: (10 pts)**\n",
        "\n",
        "Add and subtract the vectors `v1` and `v2` from above"
      ],
      "metadata": {
        "id": "mwDC8OsVOBRk"
      }
    },
    {
      "cell_type": "code",
      "source": [
        "#Print the two vectors\n",
        "\n"
      ],
      "metadata": {
        "id": "4kDL1LG3Pfnh"
      },
      "execution_count": null,
      "outputs": []
    },
    {
      "cell_type": "code",
      "source": [
        "#Add V = v1 + v2\n",
        "\n"
      ],
      "metadata": {
        "id": "qXDfur9-O4BF"
      },
      "execution_count": null,
      "outputs": []
    },
    {
      "cell_type": "code",
      "source": [
        "#Subtract W = v1 - v2\n",
        "\n"
      ],
      "metadata": {
        "id": "PyL69DjCQuPw"
      },
      "execution_count": null,
      "outputs": []
    },
    {
      "cell_type": "markdown",
      "source": [
        "### **Problem 8: (10 pts)**\n",
        "\n",
        "Find the dot product between `v1` and `v2`.\n",
        "\n"
      ],
      "metadata": {
        "id": "XSdNshdrO3W4"
      }
    },
    {
      "cell_type": "code",
      "source": [
        "#Find the dot product of v1 and v2\n",
        "\n"
      ],
      "metadata": {
        "id": "t7U5RvqmReNX"
      },
      "execution_count": null,
      "outputs": []
    },
    {
      "cell_type": "markdown",
      "source": [
        "### **Problem 9: (10 pts)**\n",
        "\n",
        "Multiply the vector `v1` by a scalar `4`.\n",
        "\n"
      ],
      "metadata": {
        "id": "vuVNi1ziUU4F"
      }
    },
    {
      "cell_type": "code",
      "source": [
        "#Calculate M = 4*v1\n"
      ],
      "metadata": {
        "id": "VQHqiOZCUBlR"
      },
      "execution_count": null,
      "outputs": []
    },
    {
      "cell_type": "markdown",
      "source": [
        "### **Problem 10: (10 pts)**\n",
        "\n",
        "Create a 3x5 matrix and print the shape of the matrix"
      ],
      "metadata": {
        "id": "barIwEYrWCg2"
      }
    },
    {
      "cell_type": "code",
      "source": [
        "#Create a 3x5 matrix and print the shape\n",
        "\n"
      ],
      "metadata": {
        "id": "AA-l_lSMVeSE"
      },
      "execution_count": null,
      "outputs": []
    },
    {
      "cell_type": "markdown",
      "source": [
        "### **Problem 11: (10 pts)**\n",
        "\n",
        "Create a rank-2 tensor."
      ],
      "metadata": {
        "id": "OzOsYXMad8vE"
      }
    },
    {
      "cell_type": "code",
      "source": [
        "#Import the libraries\n",
        "\n"
      ],
      "metadata": {
        "id": "7vAqKM2w6lAx"
      },
      "execution_count": null,
      "outputs": []
    },
    {
      "cell_type": "code",
      "source": [
        "#Create a rank-2 tensor (a matrix)\n",
        "                          "
      ],
      "metadata": {
        "id": "FjbwIUPJMVt0"
      },
      "execution_count": null,
      "outputs": []
    },
    {
      "cell_type": "code",
      "source": [
        ""
      ],
      "metadata": {
        "id": "X2FGeUVdMV6i"
      },
      "execution_count": null,
      "outputs": []
    }
  ]
}