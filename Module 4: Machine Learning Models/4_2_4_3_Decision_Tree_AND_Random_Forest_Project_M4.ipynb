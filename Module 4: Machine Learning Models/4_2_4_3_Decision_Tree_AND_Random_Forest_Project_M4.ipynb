{
  "nbformat": 4,
  "nbformat_minor": 0,
  "metadata": {
    "colab": {
      "name": "4.2_4.3_Decision_Tree_AND_Random_Forest_Project_M4.ipynb",
      "provenance": [],
      "collapsed_sections": []
    },
    "kernelspec": {
      "name": "python3",
      "display_name": "Python 3"
    },
    "language_info": {
      "name": "python"
    }
  },
  "cells": [
    {
      "cell_type": "markdown",
      "source": [
        "# MODULE 4: Decision Tree and Random Forest (Classification Problem) - Project"
      ],
      "metadata": {
        "id": "_8OLHjc3UTXu"
      }
    },
    {
      "cell_type": "markdown",
      "source": [
        "In this project, you will apply the Decision Tree and Random Forest models to a selected dataset in Python.\n"
      ],
      "metadata": {
        "id": "pC-YAl9FUfNR"
      }
    },
    {
      "cell_type": "markdown",
      "source": [
        "## **STEP 1: Pre-process the dataset**"
      ],
      "metadata": {
        "id": "GZ1sioSPdEWw"
      }
    },
    {
      "cell_type": "markdown",
      "source": [
        "In this step, we will do the following:\n",
        "\n",
        "*   Import the necessary libraries\n",
        "*   Load the dataset\n",
        "*   Analyze the dataset\n",
        "*   Summarize the dataset\n"
      ],
      "metadata": {
        "id": "kST2Em5_jas7"
      }
    },
    {
      "cell_type": "markdown",
      "source": [
        "We will work with the Iris data. You can find the dataset in the online **UCI Machine Learning Repository** \n",
        "\n",
        "(link: https://archive.ics.uci.edu/ml/datasets/iris)\n",
        "\n",
        "You can also find the dataset on Canvas."
      ],
      "metadata": {
        "id": "T6XSdi0qONcn"
      }
    },
    {
      "cell_type": "markdown",
      "source": [
        "**Data Description:**\n",
        "\n",
        "The data set contains 3 classes of 50 instances each, where each class refers to a type of iris plant. One class is linearly separable from the other 2; the latter are NOT linearly separable from each other."
      ],
      "metadata": {
        "id": "6TtHyrU-RcZl"
      }
    },
    {
      "cell_type": "markdown",
      "source": [
        "### **Import the libraries**"
      ],
      "metadata": {
        "id": "pTPRGA41Ry3U"
      }
    },
    {
      "cell_type": "markdown",
      "source": [
        "Here we will explore different libraries to apply the Decision Tree model"
      ],
      "metadata": {
        "id": "oITnLpvKXDo4"
      }
    },
    {
      "cell_type": "code",
      "execution_count": null,
      "metadata": {
        "id": "qHPNWhUvUL4A"
      },
      "outputs": [],
      "source": [
        "#Import the libraries\n",
        "\n",
        "\n",
        "\n"
      ]
    },
    {
      "cell_type": "markdown",
      "source": [
        "### **Load the dataset**"
      ],
      "metadata": {
        "id": "fbIMU4pUY4iY"
      }
    },
    {
      "cell_type": "markdown",
      "source": [
        "The name of the dataset is `breast_cancer_data.csv`."
      ],
      "metadata": {
        "id": "olma_QP4ZElt"
      }
    },
    {
      "cell_type": "code",
      "source": [
        "#Load the dataset\n",
        "\n"
      ],
      "metadata": {
        "id": "3avYuKsNY9LP"
      },
      "execution_count": null,
      "outputs": []
    },
    {
      "cell_type": "code",
      "source": [
        "#Display the dataset\n",
        "\n"
      ],
      "metadata": {
        "id": "e0_ouvo8Z2Cv"
      },
      "execution_count": null,
      "outputs": []
    },
    {
      "cell_type": "code",
      "source": [
        "#Show a portion of the data\n",
        "\n"
      ],
      "metadata": {
        "id": "MGM41mwMbPLO"
      },
      "execution_count": null,
      "outputs": []
    },
    {
      "cell_type": "markdown",
      "source": [
        "### **Analyze the data**"
      ],
      "metadata": {
        "id": "SqLTMdvyaLM-"
      }
    },
    {
      "cell_type": "code",
      "source": [
        "#Find the shape of data\n",
        "\n"
      ],
      "metadata": {
        "id": "QTvOi1YpaJsE"
      },
      "execution_count": null,
      "outputs": []
    },
    {
      "cell_type": "markdown",
      "source": [
        "This shows that the data has 569 observations and 33 columns"
      ],
      "metadata": {
        "id": "s0dxCrH8bp_1"
      }
    },
    {
      "cell_type": "code",
      "source": [
        "#Show the information of the data\n",
        "\n"
      ],
      "metadata": {
        "id": "zcREHY7JaKlX"
      },
      "execution_count": null,
      "outputs": []
    },
    {
      "cell_type": "code",
      "source": [
        "#Show the null values in the data frame\n",
        "\n"
      ],
      "metadata": {
        "id": "l8AUwRpfb29N"
      },
      "execution_count": null,
      "outputs": []
    },
    {
      "cell_type": "markdown",
      "source": [
        "### **Summarize the data**"
      ],
      "metadata": {
        "id": "E-1rZeDyaPC4"
      }
    },
    {
      "cell_type": "code",
      "source": [
        "#Summarize the data and round it to 2 decimals\n",
        "#Iris_data.describe()\n",
        "\n"
      ],
      "metadata": {
        "id": "nkXBZGQdaUKt"
      },
      "execution_count": null,
      "outputs": []
    },
    {
      "cell_type": "markdown",
      "source": [
        "### **Clean and prepare the dataset**"
      ],
      "metadata": {
        "id": "NLp21D0RgjmC"
      }
    },
    {
      "cell_type": "markdown",
      "source": [
        "In this part, we will drop the `id` and `Unnamed: 32` variables since they are irrelevant."
      ],
      "metadata": {
        "id": "Q6qCr-sfgo54"
      }
    },
    {
      "cell_type": "code",
      "source": [
        "#Drop the unnecessary variables for the analysis\n",
        "\n"
      ],
      "metadata": {
        "id": "F6Psw2ETakgL"
      },
      "execution_count": null,
      "outputs": []
    },
    {
      "cell_type": "code",
      "source": [
        "#Find the new shape\n",
        "\n"
      ],
      "metadata": {
        "id": "MYxJJxwShKDU"
      },
      "execution_count": null,
      "outputs": []
    },
    {
      "cell_type": "code",
      "source": [
        "#Get infor of the data\n",
        "\n"
      ],
      "metadata": {
        "id": "XpNnesweiCg3"
      },
      "execution_count": null,
      "outputs": []
    },
    {
      "cell_type": "code",
      "source": [
        "#In this data it would be a good idea to find the class distribution by using \"[dataset].groupby('Species').size()\"\n",
        "\n"
      ],
      "metadata": {
        "id": "PdGdm_H6BYu9"
      },
      "execution_count": null,
      "outputs": []
    },
    {
      "cell_type": "markdown",
      "source": [
        "### **Visualize data**"
      ],
      "metadata": {
        "id": "fbbJaHGLi1e_"
      }
    },
    {
      "cell_type": "code",
      "source": [
        "#Plot box and whisker plots\n",
        "\n"
      ],
      "metadata": {
        "id": "hpRC7xYqB9WG"
      },
      "execution_count": null,
      "outputs": []
    },
    {
      "cell_type": "code",
      "source": [
        "#Plot a histogram\n",
        "\n"
      ],
      "metadata": {
        "id": "wT5nFoxVjAS9"
      },
      "execution_count": null,
      "outputs": []
    },
    {
      "cell_type": "markdown",
      "source": [
        "## **STEP 2: Apply the Machine learning Model**:"
      ],
      "metadata": {
        "id": "fEsW58rFiqJV"
      }
    },
    {
      "cell_type": "markdown",
      "source": [
        "Here we will apply the ML model:\n",
        "\n",
        "*   Import the necessary libraries\n",
        "*   Build the model\n",
        "*   Display the results\n",
        "\n"
      ],
      "metadata": {
        "id": "dsk7Tx6QkQUC"
      }
    },
    {
      "cell_type": "markdown",
      "source": [
        "### **Import the libraries**"
      ],
      "metadata": {
        "id": "RDk8BWgKXOe0"
      }
    },
    {
      "cell_type": "code",
      "source": [
        "#Import models from scikit learn module:\n",
        "\n"
      ],
      "metadata": {
        "id": "ndCVRXvti9SZ"
      },
      "execution_count": null,
      "outputs": []
    },
    {
      "cell_type": "code",
      "source": [
        "#Import Random Forest classifier\n",
        "\n",
        "\n",
        "#Import for Decision Tree Classifier\n",
        "\n"
      ],
      "metadata": {
        "id": "s3DZOMe-SyV1"
      },
      "execution_count": null,
      "outputs": []
    },
    {
      "cell_type": "code",
      "source": [
        "#Import for getting the metrics\n"
      ],
      "metadata": {
        "id": "F3qv3WaMVIUY"
      },
      "execution_count": null,
      "outputs": []
    },
    {
      "cell_type": "markdown",
      "source": [
        "### **Split the data**"
      ],
      "metadata": {
        "id": "FiQ9351akkpQ"
      }
    },
    {
      "cell_type": "markdown",
      "source": [
        "Split the data into training and data sets (training 70% and test 30%)"
      ],
      "metadata": {
        "id": "9kHnpVwkkoEW"
      }
    },
    {
      "cell_type": "code",
      "source": [
        "#First, we create the target and features variables\n",
        "\n"
      ],
      "metadata": {
        "id": "lERRbfo9akAW"
      },
      "execution_count": null,
      "outputs": []
    },
    {
      "cell_type": "code",
      "source": [
        "#Split the data into training 80% and test 20% set\n",
        "\n",
        "\n"
      ],
      "metadata": {
        "id": "zjuEQS6Si9g-"
      },
      "execution_count": null,
      "outputs": []
    },
    {
      "cell_type": "code",
      "source": [
        "#Print the shape of the training and test data\n",
        "\n",
        "\n"
      ],
      "metadata": {
        "id": "qY6VOoFAecmY"
      },
      "execution_count": null,
      "outputs": []
    },
    {
      "cell_type": "markdown",
      "source": [
        "## **Build the model:** \n",
        "\n",
        "We will build two models for this dataset: **Decision Tree and Random Forest** for classification problems"
      ],
      "metadata": {
        "id": "_cJLJSMJl8M9"
      }
    },
    {
      "cell_type": "markdown",
      "source": [
        "### **Decision Tree Model**"
      ],
      "metadata": {
        "id": "nVPz4A363tbI"
      }
    },
    {
      "cell_type": "code",
      "source": [
        "#We use Decision Tree for classification\n",
        "\n"
      ],
      "metadata": {
        "id": "qhRtvzI3aVJU"
      },
      "execution_count": null,
      "outputs": []
    },
    {
      "cell_type": "code",
      "source": [
        "#Fit the model for training\n",
        "\n"
      ],
      "metadata": {
        "id": "D5DSDo50aVOg"
      },
      "execution_count": null,
      "outputs": []
    },
    {
      "cell_type": "markdown",
      "source": [
        "### **Random Forest Model**"
      ],
      "metadata": {
        "id": "ZXfDOQFN3z8t"
      }
    },
    {
      "cell_type": "code",
      "source": [
        "#Use the Random Forest Model\n",
        "\n"
      ],
      "metadata": {
        "id": "DNu7ZuEE3y19"
      },
      "execution_count": null,
      "outputs": []
    },
    {
      "cell_type": "code",
      "source": [
        ""
      ],
      "metadata": {
        "id": "riUXwQBX39rB"
      },
      "execution_count": null,
      "outputs": []
    },
    {
      "cell_type": "markdown",
      "source": [
        "## **STEP 3: Evaluate the Machine learning Model**:"
      ],
      "metadata": {
        "id": "U9egZlQZi2be"
      }
    },
    {
      "cell_type": "markdown",
      "source": [
        "In this section, we will evaluate the model as follows:\n",
        "\n",
        "*   Validate the performance of the built model\n",
        "*   Use a performance metric\n",
        "\n"
      ],
      "metadata": {
        "id": "Y0Vebju_k6rA"
      }
    },
    {
      "cell_type": "markdown",
      "source": [
        "### **Decision Tree Model**"
      ],
      "metadata": {
        "id": "q8makjPQqVW8"
      }
    },
    {
      "cell_type": "code",
      "source": [
        "#Find the CONFUSION MATRIX \n",
        "\n"
      ],
      "metadata": {
        "id": "ZnXx9h7Fi-fO"
      },
      "execution_count": null,
      "outputs": []
    },
    {
      "cell_type": "code",
      "source": [
        "#Use classification_report \n",
        "\n"
      ],
      "metadata": {
        "id": "O5rqKbmOh8Vq"
      },
      "execution_count": null,
      "outputs": []
    },
    {
      "cell_type": "markdown",
      "source": [
        "**Note: What is the accuracy?**\n",
        "\n"
      ],
      "metadata": {
        "id": "YEmytXC8zuo0"
      }
    },
    {
      "cell_type": "markdown",
      "source": [
        "### **Random Forest Model**"
      ],
      "metadata": {
        "id": "mE4p86jDi0yp"
      }
    },
    {
      "cell_type": "markdown",
      "source": [
        "Now we use the Random Forest Model."
      ],
      "metadata": {
        "id": "Wg9Rfo_e1oCh"
      }
    },
    {
      "cell_type": "code",
      "source": [
        "#Find the confusion matrix \n",
        "\n"
      ],
      "metadata": {
        "id": "U2saDpePjB1Q"
      },
      "execution_count": null,
      "outputs": []
    },
    {
      "cell_type": "code",
      "source": [
        "#Use classification_report\n",
        "\n"
      ],
      "metadata": {
        "id": "_VYSQPzpjB4G"
      },
      "execution_count": null,
      "outputs": []
    },
    {
      "cell_type": "markdown",
      "source": [
        "**Note: What is the accuracy?**\n",
        "\n"
      ],
      "metadata": {
        "id": "kom884Yr4erZ"
      }
    }
  ]
}