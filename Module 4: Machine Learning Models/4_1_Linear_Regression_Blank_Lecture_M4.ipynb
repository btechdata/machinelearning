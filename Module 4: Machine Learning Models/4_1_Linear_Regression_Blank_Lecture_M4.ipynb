{
  "nbformat": 4,
  "nbformat_minor": 0,
  "metadata": {
    "colab": {
      "name": "4_1_Linear_Regression_Blank-Lecture_M4.ipynb",
      "provenance": [],
      "collapsed_sections": []
    },
    "kernelspec": {
      "name": "python3",
      "display_name": "Python 3"
    },
    "language_info": {
      "name": "python"
    }
  },
  "cells": [
    {
      "cell_type": "markdown",
      "source": [
        "# MODULE 4: Linear Regression - Lecture"
      ],
      "metadata": {
        "id": "_8OLHjc3UTXu"
      }
    },
    {
      "cell_type": "markdown",
      "source": [
        "In this tutorial, we will apply what we learned in the Python course and learn how to apply the Linear Regression model to a selected dataset in Python.\n",
        "\n",
        "Here are the steps that we will follow:\n",
        "\n",
        "1.   **Pre-process** the dataset\n",
        "2.   **Apply** the ML model to the dataset\n",
        "3.   **Evaluate** the model\n",
        "\n",
        "These steps will help us write a report of our findings: (We will learn more about this later)\n",
        "\n",
        "1.   **Introduction:** Give a brief introduction of the dataset and the purpose of this project.\n",
        "2.   **Description of the Data** Describe the dataset (number of observations, variables, content in general). Describe how you split the dataset.\n",
        "3.   **Methods** Give a brief explanation of the methods that you will use in this project.\n",
        "4.   **Results** Show the results of the methods used.\n",
        "5.   **Comparison** Compare the results obtained by the different methods used. Also, if your dataset was obtained from an online repository and other people worked on the same dataset, you can compare their results to your own results.\n",
        "6.   **Discussion & Conclusions** Discuss your findings and make a conclusion.\n"
      ],
      "metadata": {
        "id": "pC-YAl9FUfNR"
      }
    },
    {
      "cell_type": "markdown",
      "source": [
        "## **STEP 1: Pre-process the dataset**"
      ],
      "metadata": {
        "id": "GZ1sioSPdEWw"
      }
    },
    {
      "cell_type": "markdown",
      "source": [
        "In this step, we will do the following:\n",
        "\n",
        "*   Import the necessary libraries\n",
        "*   Load the dataset\n",
        "*   Explore the dataset\n",
        "*   Summarize the dataset\n",
        "*   Analyze the dataset\n"
      ],
      "metadata": {
        "id": "kST2Em5_jas7"
      }
    },
    {
      "cell_type": "markdown",
      "source": [
        "### **Import the necessary libraries**"
      ],
      "metadata": {
        "id": "LAebCUmVpfML"
      }
    },
    {
      "cell_type": "code",
      "execution_count": null,
      "metadata": {
        "id": "qHPNWhUvUL4A"
      },
      "outputs": [],
      "source": [
        "\n"
      ]
    },
    {
      "cell_type": "markdown",
      "source": [
        "### **Load the dataset**"
      ],
      "metadata": {
        "id": "n8AYTIBTqokd"
      }
    },
    {
      "cell_type": "markdown",
      "source": [
        "Creating data frame and loading the dataset into it. Here is where we use pandas"
      ],
      "metadata": {
        "id": "wLAen0aVproy"
      }
    },
    {
      "cell_type": "code",
      "source": [
        ""
      ],
      "metadata": {
        "id": "5viaxFw3UUp0"
      },
      "execution_count": null,
      "outputs": []
    },
    {
      "cell_type": "markdown",
      "source": [
        "### **Explore the dataset**"
      ],
      "metadata": {
        "id": "UCR_xAtVqWaz"
      }
    },
    {
      "cell_type": "code",
      "source": [
        ")"
      ],
      "metadata": {
        "id": "uCxwLRUjUUvI"
      },
      "execution_count": null,
      "outputs": []
    },
    {
      "cell_type": "code",
      "source": [
        ""
      ],
      "metadata": {
        "id": "wz0A71aWrle_"
      },
      "execution_count": null,
      "outputs": []
    },
    {
      "cell_type": "code",
      "source": [
        ""
      ],
      "metadata": {
        "id": "3zqNhXDQrva4"
      },
      "execution_count": null,
      "outputs": []
    },
    {
      "cell_type": "code",
      "source": [
        ""
      ],
      "metadata": {
        "id": "Z4UYWDG9sVqb"
      },
      "execution_count": null,
      "outputs": []
    },
    {
      "cell_type": "markdown",
      "source": [
        "**Note:**\n",
        "\n",
        "Here we can also check outliers, missing values, etc. You cna apply all the DATA CLEANING skills that you learn in the Advanced Python course."
      ],
      "metadata": {
        "id": "Ff2zTcGyBjV3"
      }
    },
    {
      "cell_type": "markdown",
      "source": [
        "### **Summarize the data**"
      ],
      "metadata": {
        "id": "sVE0hmwLq3Nc"
      }
    },
    {
      "cell_type": "code",
      "source": [
        "\n"
      ],
      "metadata": {
        "id": "yI5igL34q78B"
      },
      "execution_count": null,
      "outputs": []
    },
    {
      "cell_type": "markdown",
      "source": [
        "### **Analyze the data**"
      ],
      "metadata": {
        "id": "QyU4Ihcgt8JN"
      }
    },
    {
      "cell_type": "markdown",
      "source": [
        "**Visualize the data**"
      ],
      "metadata": {
        "id": "s7UivOHnuN5h"
      }
    },
    {
      "cell_type": "code",
      "source": [
        ""
      ],
      "metadata": {
        "id": "gsRBpREAt7gX"
      },
      "execution_count": null,
      "outputs": []
    },
    {
      "cell_type": "code",
      "source": [
        ""
      ],
      "metadata": {
        "id": "lW5gY7d7vPex"
      },
      "execution_count": null,
      "outputs": []
    },
    {
      "cell_type": "markdown",
      "source": [
        "More info about `.corr()` in this [**link**](https://www.geeksforgeeks.org/python-pandas-dataframe-corr/#:~:text=corr()%20is%20used%20to,the%20dataframe%20it%20is%20ignored.&text=Note%3A%20The%20correlation%20of%20a%20variable%20with%20itself%20is%201.)\n"
      ],
      "metadata": {
        "id": "cLOQHF00xSv0"
      }
    },
    {
      "cell_type": "code",
      "source": [
        ""
      ],
      "metadata": {
        "id": "TenKNMcMvsWc"
      },
      "execution_count": null,
      "outputs": []
    },
    {
      "cell_type": "code",
      "source": [
        ""
      ],
      "metadata": {
        "id": "-p_fvqF0yCth"
      },
      "execution_count": null,
      "outputs": []
    },
    {
      "cell_type": "markdown",
      "source": [
        "**Plotting Salary vs. YearsExperience**"
      ],
      "metadata": {
        "id": "SUVOfSOxyZTq"
      }
    },
    {
      "cell_type": "code",
      "source": [
        ""
      ],
      "metadata": {
        "id": "8fuNjXf3yYir"
      },
      "execution_count": null,
      "outputs": []
    },
    {
      "cell_type": "markdown",
      "source": [
        "**Note:** \n",
        "\n",
        "We can see there is a strong positiive correlation between YearsExperience and Salary."
      ],
      "metadata": {
        "id": "SpgdDMpi4yix"
      }
    },
    {
      "cell_type": "markdown",
      "source": [
        "## **STEP 2: Apply the Machine learning Model**:"
      ],
      "metadata": {
        "id": "fEsW58rFiqJV"
      }
    },
    {
      "cell_type": "markdown",
      "source": [
        "Here we will apply the ML model:\n",
        "\n",
        "*   Import the necessary libraries\n",
        "*   Build the model\n",
        "*   Display the results\n",
        "\n"
      ],
      "metadata": {
        "id": "dsk7Tx6QkQUC"
      }
    },
    {
      "cell_type": "markdown",
      "source": [
        "### **Import the necessary libraries**"
      ],
      "metadata": {
        "id": "8M-tnK5F5icL"
      }
    },
    {
      "cell_type": "code",
      "source": [
        "\n"
      ],
      "metadata": {
        "id": "ndCVRXvti9SZ"
      },
      "execution_count": null,
      "outputs": []
    },
    {
      "cell_type": "markdown",
      "source": [
        "### **Buil the model**"
      ],
      "metadata": {
        "id": "Rb_JW2jt5Pnt"
      }
    },
    {
      "cell_type": "markdown",
      "source": [
        "First we will prepare our dataframes for the x-array and y-array"
      ],
      "metadata": {
        "id": "tvAShTHm5q6i"
      }
    },
    {
      "cell_type": "code",
      "source": [
        ""
      ],
      "metadata": {
        "id": "zjuEQS6Si9g-"
      },
      "execution_count": null,
      "outputs": []
    },
    {
      "cell_type": "markdown",
      "source": [
        "Now we split the dataset into training and test dataset: Training 70% and test 30% sets"
      ],
      "metadata": {
        "id": "AyXJm7AH7X7A"
      }
    },
    {
      "cell_type": "code",
      "source": [
        ""
      ],
      "metadata": {
        "id": "VZ4tRaNI3-MC"
      },
      "execution_count": null,
      "outputs": []
    },
    {
      "cell_type": "code",
      "source": [
        ""
      ],
      "metadata": {
        "id": "COkFsCui783S"
      },
      "execution_count": null,
      "outputs": []
    },
    {
      "cell_type": "code",
      "source": [
        ""
      ],
      "metadata": {
        "id": "d9QJaLZX9FuZ"
      },
      "execution_count": null,
      "outputs": []
    },
    {
      "cell_type": "markdown",
      "source": [
        "We build our linear regression model. We already import the necessary library."
      ],
      "metadata": {
        "id": "WrtYZTVg-xog"
      }
    },
    {
      "cell_type": "code",
      "source": [
        ""
      ],
      "metadata": {
        "id": "qxUPQJbY-t-V"
      },
      "execution_count": null,
      "outputs": []
    },
    {
      "cell_type": "markdown",
      "source": [
        "Train the model with the training data. We use `.fit()` for that."
      ],
      "metadata": {
        "id": "00-bPT_mABm3"
      }
    },
    {
      "cell_type": "code",
      "source": [
        ""
      ],
      "metadata": {
        "id": "9A-_sH2MAFXX"
      },
      "execution_count": null,
      "outputs": []
    },
    {
      "cell_type": "markdown",
      "source": [
        "Now we know that the linear regression model follows the form  \n",
        "\n",
        "```\n",
        "y = a + b x\n",
        "```\n",
        "where `a` is the intercept and `b` is the coeffcient\n"
      ],
      "metadata": {
        "id": "emIuoYBPCLZr"
      }
    },
    {
      "cell_type": "markdown",
      "source": [
        "### **Display Results**"
      ],
      "metadata": {
        "id": "SCSnIECFJkbS"
      }
    },
    {
      "cell_type": "code",
      "source": [
        "\n"
      ],
      "metadata": {
        "id": "fwUbjEy8Dmgy"
      },
      "execution_count": null,
      "outputs": []
    },
    {
      "cell_type": "code",
      "source": [
        ""
      ],
      "metadata": {
        "id": "G1PF8azhERdX"
      },
      "execution_count": null,
      "outputs": []
    },
    {
      "cell_type": "code",
      "source": [
        ""
      ],
      "metadata": {
        "id": "Q_3uKQXUIpA6"
      },
      "execution_count": null,
      "outputs": []
    },
    {
      "cell_type": "markdown",
      "source": [
        "Using the model to predict: Here we use the test data to validate the model and make predictions.\n",
        "\n",
        "We use `.predict`"
      ],
      "metadata": {
        "id": "fxer2xWgJsIK"
      }
    },
    {
      "cell_type": "code",
      "source": [
        ""
      ],
      "metadata": {
        "id": "cx_KTPGSKBLQ"
      },
      "execution_count": null,
      "outputs": []
    },
    {
      "cell_type": "markdown",
      "source": [
        "## **STEP 3: Evaluate the Machine learning Model**:"
      ],
      "metadata": {
        "id": "U9egZlQZi2be"
      }
    },
    {
      "cell_type": "markdown",
      "source": [
        "In this section, we will evaluate the model as follows:\n",
        "\n",
        "*   Validate the performance of the built model\n",
        "*   Use a performance metric\n",
        "\n"
      ],
      "metadata": {
        "id": "Y0Vebju_k6rA"
      }
    },
    {
      "cell_type": "markdown",
      "source": [
        "For Linear Regression Models, we can calculate the error of the model as follows:\n",
        "\n",
        "**Option 1: Coefficient of Determination - R^2 score**\n",
        "\n",
        "*   Use R^2 score to evaluate the linear regression \n",
        "*   R^2 is based on correlation between actual and predicted value\n",
        "*   R^2 score is not sensitive to outliers\n",
        "*   R^2 values are between 0 and 1\n",
        "*   R^2 score near to 1 indicates a better model\n",
        "\n",
        "***For example: ***\n",
        "\n",
        "\"Assume R^2 = 0.68\n",
        "It can be referred that 68% of the changeability of the dependent output attribute can be explained by the model while the remaining 32 % of the variability is still unaccounted for.\n",
        "R^2 indicates the proportion of data points which lie within the line created by the regression equation. A higher value of R^2 is desirable as it indicates better results.\" (Reference: GfG **[website](https://www.geeksforgeeks.org/python-coefficient-of-determination-r2-score/)**)\n",
        "\n",
        "\n",
        "**Option 2: Mean-Squared-Error (MSE)**\n",
        "\n",
        "* MSE measures the distance between the actual and predicted values\n",
        "* MSE values are between 0 to infinity\n",
        "* MSE is sensitive to outliers\n",
        "* Small value indicates better model \n",
        "\n"
      ],
      "metadata": {
        "id": "O-d9gJA4NhTd"
      }
    },
    {
      "cell_type": "code",
      "source": [
        "\n"
      ],
      "metadata": {
        "id": "Nrx6PFUji8j4"
      },
      "execution_count": null,
      "outputs": []
    },
    {
      "cell_type": "code",
      "source": [
        ""
      ],
      "metadata": {
        "id": "ZnXx9h7Fi-fO"
      },
      "execution_count": null,
      "outputs": []
    },
    {
      "cell_type": "code",
      "source": [
        ""
      ],
      "metadata": {
        "id": "rxdyv0LhQRth"
      },
      "execution_count": null,
      "outputs": []
    },
    {
      "cell_type": "code",
      "source": [
        ""
      ],
      "metadata": {
        "id": "Lu7E8X99XBNG"
      },
      "execution_count": null,
      "outputs": []
    },
    {
      "cell_type": "code",
      "source": [
        ""
      ],
      "metadata": {
        "id": "Jv4pLRSna7ct"
      },
      "execution_count": null,
      "outputs": []
    },
    {
      "cell_type": "code",
      "source": [
        ""
      ],
      "metadata": {
        "id": "GWVsnt_tesXg"
      },
      "execution_count": null,
      "outputs": []
    },
    {
      "cell_type": "markdown",
      "source": [
        "**Conclusion:**\n",
        "\n",
        "The Linear Regression model performed well with a R^2 score of 0.9472. This means that 94.72% of the variance in `Salary(Y)` is explained by `YearsExperience(X)`"
      ],
      "metadata": {
        "id": "d8pqWDOsfOJ1"
      }
    }
  ]
}