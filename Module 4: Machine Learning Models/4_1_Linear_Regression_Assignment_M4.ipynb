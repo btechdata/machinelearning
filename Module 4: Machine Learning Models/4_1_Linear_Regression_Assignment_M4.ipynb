{
  "nbformat": 4,
  "nbformat_minor": 0,
  "metadata": {
    "colab": {
      "name": "4_1_Linear_Regression_Assignment_M4.ipynb",
      "provenance": [],
      "collapsed_sections": []
    },
    "kernelspec": {
      "name": "python3",
      "display_name": "Python 3"
    },
    "language_info": {
      "name": "python"
    }
  },
  "cells": [
    {
      "cell_type": "markdown",
      "source": [
        "# MODULE 4: Linear Regression - Assignment"
      ],
      "metadata": {
        "id": "_8OLHjc3UTXu"
      }
    },
    {
      "cell_type": "markdown",
      "source": [
        "In this assignment, we will show our understanding on how to apply the Linear Regression model to a selected dataset in Python.\n",
        "\n",
        "Please, find the dataset on Canvas in the FILES section."
      ],
      "metadata": {
        "id": "pC-YAl9FUfNR"
      }
    },
    {
      "cell_type": "markdown",
      "source": [
        "Description of the `advertising` data:\n",
        "\n",
        "Advertising data sales (in thousands of units) for a particular product advertising budget (in thousands of dollars) for TV."
      ],
      "metadata": {
        "id": "aoqb9XEiHl4I"
      }
    },
    {
      "cell_type": "markdown",
      "source": [
        "## **STEP 1: Pre-process the dataset**"
      ],
      "metadata": {
        "id": "GZ1sioSPdEWw"
      }
    },
    {
      "cell_type": "markdown",
      "source": [
        "In this step, you need to do the following:\n",
        "\n",
        "*   Import the necessary libraries\n",
        "*   Load the dataset\n",
        "*   Explore the dataset\n",
        "*   Summarize the dataset\n",
        "*   Analyze the dataset\n"
      ],
      "metadata": {
        "id": "kST2Em5_jas7"
      }
    },
    {
      "cell_type": "markdown",
      "source": [
        "### **Import the necessary libraries**"
      ],
      "metadata": {
        "id": "LAebCUmVpfML"
      }
    },
    {
      "cell_type": "code",
      "execution_count": 146,
      "metadata": {
        "id": "qHPNWhUvUL4A"
      },
      "outputs": [],
      "source": [
        "#Import the libraries\n",
        "\n"
      ]
    },
    {
      "cell_type": "markdown",
      "source": [
        "### **Load the dataset**"
      ],
      "metadata": {
        "id": "n8AYTIBTqokd"
      }
    },
    {
      "cell_type": "markdown",
      "source": [
        "Comments:"
      ],
      "metadata": {
        "id": "wLAen0aVproy"
      }
    },
    {
      "cell_type": "code",
      "source": [
        "#Load dataset\n"
      ],
      "metadata": {
        "id": "5viaxFw3UUp0"
      },
      "execution_count": 147,
      "outputs": []
    },
    {
      "cell_type": "markdown",
      "source": [
        "### **Explore the dataset**"
      ],
      "metadata": {
        "id": "UCR_xAtVqWaz"
      }
    },
    {
      "cell_type": "markdown",
      "source": [
        "**Note:**\n",
        "\n",
        "Here we can also check outliers, missing values, etc. You cna apply all the DATA CLEANING skills that you learn in the Advanced Python course."
      ],
      "metadata": {
        "id": "GJy4X2onBQFs"
      }
    },
    {
      "cell_type": "code",
      "source": [
        "#Show the head of the data\n",
        "\n"
      ],
      "metadata": {
        "id": "uCxwLRUjUUvI"
      },
      "execution_count": null,
      "outputs": []
    },
    {
      "cell_type": "code",
      "source": [
        "#Show the shape of the data\n",
        "\n"
      ],
      "metadata": {
        "id": "wz0A71aWrle_"
      },
      "execution_count": null,
      "outputs": []
    },
    {
      "cell_type": "code",
      "source": [
        "#Get the info of the dataset with \"advertising.info()\"\n",
        "\n"
      ],
      "metadata": {
        "id": "a1LnQ1KxIyr1"
      },
      "execution_count": null,
      "outputs": []
    },
    {
      "cell_type": "markdown",
      "source": [
        "In the next step we will find the variable tyoes which we can also find them using `.info()` as we did in the last step."
      ],
      "metadata": {
        "id": "fP88z7puJZjP"
      }
    },
    {
      "cell_type": "code",
      "source": [
        "#Show the types of the variables\n",
        "\n"
      ],
      "metadata": {
        "id": "3zqNhXDQrva4"
      },
      "execution_count": null,
      "outputs": []
    },
    {
      "cell_type": "code",
      "source": [
        "#Show the total null values in the data frame\n",
        "\n"
      ],
      "metadata": {
        "id": "Z4UYWDG9sVqb"
      },
      "execution_count": null,
      "outputs": []
    },
    {
      "cell_type": "markdown",
      "source": [
        "### **Summarize the data**"
      ],
      "metadata": {
        "id": "sVE0hmwLq3Nc"
      }
    },
    {
      "cell_type": "code",
      "source": [
        "#Use describe() for summarizing the data\n",
        "#Round it to 2 decimals places\n",
        "\n",
        "\n"
      ],
      "metadata": {
        "id": "yI5igL34q78B"
      },
      "execution_count": null,
      "outputs": []
    },
    {
      "cell_type": "markdown",
      "source": [
        "### **Analyze the data**"
      ],
      "metadata": {
        "id": "QyU4Ihcgt8JN"
      }
    },
    {
      "cell_type": "markdown",
      "source": [
        "**Visualize the data**"
      ],
      "metadata": {
        "id": "s7UivOHnuN5h"
      }
    },
    {
      "cell_type": "code",
      "source": [
        "#PLot Histograms\n",
        "\n"
      ],
      "metadata": {
        "id": "gsRBpREAt7gX"
      },
      "execution_count": null,
      "outputs": []
    },
    {
      "cell_type": "code",
      "source": [
        "#Plot a pair plot to see the relationship between the variables\n",
        "\n"
      ],
      "metadata": {
        "id": "lW5gY7d7vPex"
      },
      "execution_count": null,
      "outputs": []
    },
    {
      "cell_type": "code",
      "source": [
        "#Check correlation between TV and Sales\n",
        "\n",
        "\n",
        "\n",
        "#Heatmap\n",
        "\n"
      ],
      "metadata": {
        "id": "TenKNMcMvsWc"
      },
      "execution_count": null,
      "outputs": []
    },
    {
      "cell_type": "code",
      "source": [
        "#Using the method \"kendall\" when using \"\".corr\"\n",
        "\n"
      ],
      "metadata": {
        "id": "-p_fvqF0yCth"
      },
      "execution_count": null,
      "outputs": []
    },
    {
      "cell_type": "code",
      "source": [
        "#DO an outlier analysis for TV\n",
        "\n",
        "\n"
      ],
      "metadata": {
        "id": "xpCLZu1AL6Mj"
      },
      "execution_count": null,
      "outputs": []
    },
    {
      "cell_type": "code",
      "source": [
        "#DO an outlier analysis for Sales(the target variable)\n",
        "\n",
        "\n"
      ],
      "metadata": {
        "id": "ycbbYv08MiY7"
      },
      "execution_count": null,
      "outputs": []
    },
    {
      "cell_type": "markdown",
      "source": [
        "**Question: Do you see any considerable outliers?**\n",
        "\n",
        "**Answer:** "
      ],
      "metadata": {
        "id": "90eSkhIBMTCn"
      }
    },
    {
      "cell_type": "markdown",
      "source": [
        "**Plotting Salary vs. YearsExperience**"
      ],
      "metadata": {
        "id": "SUVOfSOxyZTq"
      }
    },
    {
      "cell_type": "code",
      "source": [
        "#PLot a scatter plot to see how Sales is related to TV variable\n",
        "\n"
      ],
      "metadata": {
        "id": "8fuNjXf3yYir"
      },
      "execution_count": null,
      "outputs": []
    },
    {
      "cell_type": "markdown",
      "source": [
        "**Question: What can you see here about the correlation?** \n",
        "\n"
      ],
      "metadata": {
        "id": "SpgdDMpi4yix"
      }
    },
    {
      "cell_type": "markdown",
      "source": [
        "## **STEP 2: Apply the Machine learning Model**:"
      ],
      "metadata": {
        "id": "fEsW58rFiqJV"
      }
    },
    {
      "cell_type": "markdown",
      "source": [
        "Here we will apply the ML model:\n",
        "\n",
        "*   Import the necessary libraries\n",
        "*   Build the model\n",
        "*   Display the results\n",
        "\n"
      ],
      "metadata": {
        "id": "dsk7Tx6QkQUC"
      }
    },
    {
      "cell_type": "markdown",
      "source": [
        "### **Import the necessary libraries**"
      ],
      "metadata": {
        "id": "8M-tnK5F5icL"
      }
    },
    {
      "cell_type": "code",
      "source": [
        "#Import the library for splitting train/test data\n",
        "\n",
        "\n",
        "\n",
        "#Import for using the ML model\n",
        "\n"
      ],
      "metadata": {
        "id": "ndCVRXvti9SZ"
      },
      "execution_count": 131,
      "outputs": []
    },
    {
      "cell_type": "markdown",
      "source": [
        "### **Buil the model**"
      ],
      "metadata": {
        "id": "Rb_JW2jt5Pnt"
      }
    },
    {
      "cell_type": "markdown",
      "source": [
        "First we will prepare our dataframes for the x-array and y-array"
      ],
      "metadata": {
        "id": "tvAShTHm5q6i"
      }
    },
    {
      "cell_type": "code",
      "source": [
        "#Create a X and Y data frames\n",
        "\n"
      ],
      "metadata": {
        "id": "zjuEQS6Si9g-"
      },
      "execution_count": 132,
      "outputs": []
    },
    {
      "cell_type": "markdown",
      "source": [
        "Split the dataset into training and test dataset: Training 70% and test 30% sets"
      ],
      "metadata": {
        "id": "AyXJm7AH7X7A"
      }
    },
    {
      "cell_type": "code",
      "source": [
        "#Split the data into training and test sets\n",
        "\n"
      ],
      "metadata": {
        "id": "VZ4tRaNI3-MC"
      },
      "execution_count": 133,
      "outputs": []
    },
    {
      "cell_type": "code",
      "source": [
        "#Print the shape of the training and test data for X and Y\n",
        "\n"
      ],
      "metadata": {
        "id": "COkFsCui783S"
      },
      "execution_count": null,
      "outputs": []
    },
    {
      "cell_type": "code",
      "source": [
        "#The model requires a 2-D array\n",
        "#Make the changes necessary for this\n",
        "\n"
      ],
      "metadata": {
        "id": "d9QJaLZX9FuZ"
      },
      "execution_count": null,
      "outputs": []
    },
    {
      "cell_type": "markdown",
      "source": [
        "We build our linear regression model. We already import the necessary library."
      ],
      "metadata": {
        "id": "WrtYZTVg-xog"
      }
    },
    {
      "cell_type": "code",
      "source": [
        "#Set Linear Regression Model\n",
        "\n"
      ],
      "metadata": {
        "id": "qxUPQJbY-t-V"
      },
      "execution_count": 136,
      "outputs": []
    },
    {
      "cell_type": "markdown",
      "source": [
        "Train the model with the training data. We use `.fit()` for that."
      ],
      "metadata": {
        "id": "00-bPT_mABm3"
      }
    },
    {
      "cell_type": "code",
      "source": [
        "#Fit the training data\n",
        "\n"
      ],
      "metadata": {
        "id": "9A-_sH2MAFXX"
      },
      "execution_count": 137,
      "outputs": []
    },
    {
      "cell_type": "markdown",
      "source": [
        "### **Display Results**"
      ],
      "metadata": {
        "id": "SCSnIECFJkbS"
      }
    },
    {
      "cell_type": "code",
      "source": [
        "#Get the intercept and coefficient of the model\n",
        "\n",
        "\n"
      ],
      "metadata": {
        "id": "fwUbjEy8Dmgy"
      },
      "execution_count": 138,
      "outputs": []
    },
    {
      "cell_type": "code",
      "source": [
        "#Print the intercept and coefficient of the model\n",
        "\n"
      ],
      "metadata": {
        "id": "G1PF8azhERdX"
      },
      "execution_count": null,
      "outputs": []
    },
    {
      "cell_type": "code",
      "source": [
        "#Print the standard form using the intercept and coeeficient\n",
        "\n"
      ],
      "metadata": {
        "id": "Q_3uKQXUIpA6"
      },
      "execution_count": null,
      "outputs": []
    },
    {
      "cell_type": "markdown",
      "source": [
        "Using the model to predict: Here we use the test data to validate the model and make predictions.\n",
        "\n",
        "We use `.predict`"
      ],
      "metadata": {
        "id": "fxer2xWgJsIK"
      }
    },
    {
      "cell_type": "code",
      "source": [
        "#Use x to predict the response y \n",
        "\n"
      ],
      "metadata": {
        "id": "cx_KTPGSKBLQ"
      },
      "execution_count": null,
      "outputs": []
    },
    {
      "cell_type": "markdown",
      "source": [
        "## **STEP 3: Evaluate the Machine learning Model**:"
      ],
      "metadata": {
        "id": "U9egZlQZi2be"
      }
    },
    {
      "cell_type": "markdown",
      "source": [
        "In this section, we will evaluate the model as follows:\n",
        "\n",
        "*   Validate the performance of the built model\n",
        "*   Use a performance metric\n",
        "\n"
      ],
      "metadata": {
        "id": "Y0Vebju_k6rA"
      }
    },
    {
      "cell_type": "code",
      "source": [
        "#Import the library for the error metrics\n",
        "\n",
        "\n"
      ],
      "metadata": {
        "id": "Nrx6PFUji8j4"
      },
      "execution_count": 142,
      "outputs": []
    },
    {
      "cell_type": "code",
      "source": [
        "#Find the R^2 score\n",
        "\n"
      ],
      "metadata": {
        "id": "ZnXx9h7Fi-fO"
      },
      "execution_count": null,
      "outputs": []
    },
    {
      "cell_type": "code",
      "source": [
        "#Find the MSE\n",
        "\n"
      ],
      "metadata": {
        "id": "rxdyv0LhQRth"
      },
      "execution_count": null,
      "outputs": []
    },
    {
      "cell_type": "code",
      "source": [
        "#Predict Salary with TV= 147\n",
        "\n",
        "\n"
      ],
      "metadata": {
        "id": "GWVsnt_tesXg"
      },
      "execution_count": null,
      "outputs": []
    },
    {
      "cell_type": "markdown",
      "source": [
        "**Conclusion: Write a short conclusion about the model**\n",
        "\n"
      ],
      "metadata": {
        "id": "d8pqWDOsfOJ1"
      }
    }
  ]
}