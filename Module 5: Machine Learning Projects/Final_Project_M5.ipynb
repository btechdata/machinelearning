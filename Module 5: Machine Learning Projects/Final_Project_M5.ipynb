{
  "nbformat": 4,
  "nbformat_minor": 0,
  "metadata": {
    "colab": {
      "name": "Final_Project_M5.ipynb",
      "provenance": [],
      "collapsed_sections": []
    },
    "kernelspec": {
      "name": "python3",
      "display_name": "Python 3"
    },
    "language_info": {
      "name": "python"
    }
  },
  "cells": [
    {
      "cell_type": "markdown",
      "source": [
        "# **MODULE 5: FINAL PROJECT**"
      ],
      "metadata": {
        "id": "_8OLHjc3UTXu"
      }
    },
    {
      "cell_type": "markdown",
      "source": [
        "In this final project, you will do the following:\n",
        "\n",
        "*   **Choose a dataset of your interest:** You can use Kaggle and see how other people solved the same problem with other machine learning classifiers.\n",
        "*   **Show the following steps:**\n",
        "\n",
        "1.   **Description of the data:** Write a short description of the data and share the link of the dataset.\n",
        "2.   **Loading data:** Make the necessary comments explaining what your code is doing.\n",
        "3.   **Summarize and analyze the data:** See examples in Module 4\n",
        "4.   **Data preprocessing:** See examples in Module 4\n",
        "5.   **Apply the ML model:** You can use one or two machine learning models that we learned in this course. You can get extra credit if you apply a new machine learning that you learned based on your own research.\n",
        "6.   **Evaluate the performance** using the metrics that we learned according to the ML model used.\n",
        "7.   **Model result comparison:** If you decided to apply two ML models to your dataset, then compare their accuracies. If you decided to use Kaggle and other people worked in the same datasets, compare their results to the results that you obtained.\n",
        "8.   **Conclusion:** Write a short conclusion (mention the accuracy obtained).\n"
      ],
      "metadata": {
        "id": "pC-YAl9FUfNR"
      }
    },
    {
      "cell_type": "markdown",
      "source": [
        "## **STEP 1: Description of the data**"
      ],
      "metadata": {
        "id": "GZ1sioSPdEWw"
      }
    },
    {
      "cell_type": "markdown",
      "source": [
        "Example: In this step, I will do the following:\n",
        "\n",
        "*   Import the necessary libraries\n",
        "*   \n"
      ],
      "metadata": {
        "id": "kST2Em5_jas7"
      }
    },
    {
      "cell_type": "markdown",
      "source": [
        "We will work with the ______________ data"
      ],
      "metadata": {
        "id": "T6XSdi0qONcn"
      }
    },
    {
      "cell_type": "code",
      "execution_count": null,
      "metadata": {
        "id": "qHPNWhUvUL4A"
      },
      "outputs": [],
      "source": [
        "#Import the libraries\n",
        "\n",
        "\n",
        "\n"
      ]
    },
    {
      "cell_type": "code",
      "source": [
        ""
      ],
      "metadata": {
        "id": "6Na1qVOdYbSm"
      },
      "execution_count": null,
      "outputs": []
    },
    {
      "cell_type": "code",
      "source": [
        ""
      ],
      "metadata": {
        "id": "pKifFuZ6YbY1"
      },
      "execution_count": null,
      "outputs": []
    },
    {
      "cell_type": "markdown",
      "source": [
        "## **STEP 2: Loading data**"
      ],
      "metadata": {
        "id": "pTPRGA41Ry3U"
      }
    },
    {
      "cell_type": "code",
      "source": [
        "#Load the dataset\n",
        "\n"
      ],
      "metadata": {
        "id": "3avYuKsNY9LP"
      },
      "execution_count": null,
      "outputs": []
    },
    {
      "cell_type": "code",
      "source": [
        "#Display the dataset\n",
        "\n"
      ],
      "metadata": {
        "id": "e0_ouvo8Z2Cv"
      },
      "execution_count": null,
      "outputs": []
    },
    {
      "cell_type": "code",
      "source": [
        "#Show a portion of the data\n",
        "\n"
      ],
      "metadata": {
        "id": "MGM41mwMbPLO"
      },
      "execution_count": null,
      "outputs": []
    },
    {
      "cell_type": "code",
      "source": [
        "#Show the null values in the data frame\n",
        "\n"
      ],
      "metadata": {
        "id": "l8AUwRpfb29N"
      },
      "execution_count": null,
      "outputs": []
    },
    {
      "cell_type": "code",
      "source": [
        ""
      ],
      "metadata": {
        "id": "NCxCSM6MYlCx"
      },
      "execution_count": null,
      "outputs": []
    },
    {
      "cell_type": "code",
      "source": [
        ""
      ],
      "metadata": {
        "id": "DOV14KTYYlLX"
      },
      "execution_count": null,
      "outputs": []
    },
    {
      "cell_type": "markdown",
      "source": [
        "## **STEP 3: Summarize and analyze the data**"
      ],
      "metadata": {
        "id": "SqLTMdvyaLM-"
      }
    },
    {
      "cell_type": "code",
      "source": [
        "\n",
        "\n"
      ],
      "metadata": {
        "id": "QTvOi1YpaJsE"
      },
      "execution_count": null,
      "outputs": []
    },
    {
      "cell_type": "code",
      "source": [
        "\n",
        "\n"
      ],
      "metadata": {
        "id": "zcREHY7JaKlX"
      },
      "execution_count": null,
      "outputs": []
    },
    {
      "cell_type": "code",
      "source": [
        ""
      ],
      "metadata": {
        "id": "c77hgwgiY2yg"
      },
      "execution_count": null,
      "outputs": []
    },
    {
      "cell_type": "code",
      "source": [
        ""
      ],
      "metadata": {
        "id": "XiSGhMzPY233"
      },
      "execution_count": null,
      "outputs": []
    },
    {
      "cell_type": "markdown",
      "source": [
        "## **STEP 4: Data preprocessing**"
      ],
      "metadata": {
        "id": "E-1rZeDyaPC4"
      }
    },
    {
      "cell_type": "code",
      "source": [
        ""
      ],
      "metadata": {
        "id": "nkXBZGQdaUKt"
      },
      "execution_count": null,
      "outputs": []
    },
    {
      "cell_type": "code",
      "source": [
        ""
      ],
      "metadata": {
        "id": "yXtOohF_aS_s"
      },
      "execution_count": null,
      "outputs": []
    },
    {
      "cell_type": "code",
      "source": [
        ""
      ],
      "metadata": {
        "id": "Gn5X3Xt9ZTVF"
      },
      "execution_count": null,
      "outputs": []
    },
    {
      "cell_type": "markdown",
      "source": [
        "## **STEP 5: Apply the ML models**"
      ],
      "metadata": {
        "id": "NLp21D0RgjmC"
      }
    },
    {
      "cell_type": "code",
      "source": [
        "\n",
        "\n"
      ],
      "metadata": {
        "id": "PdGdm_H6BYu9"
      },
      "execution_count": null,
      "outputs": []
    },
    {
      "cell_type": "code",
      "source": [
        ""
      ],
      "metadata": {
        "id": "_bht8PeXZbn-"
      },
      "execution_count": null,
      "outputs": []
    },
    {
      "cell_type": "code",
      "source": [
        ""
      ],
      "metadata": {
        "id": "gBZX9rrXZbsq"
      },
      "execution_count": null,
      "outputs": []
    },
    {
      "cell_type": "markdown",
      "source": [
        "## **STEP 6: Evaluate the model performance**"
      ],
      "metadata": {
        "id": "fbbJaHGLi1e_"
      }
    },
    {
      "cell_type": "code",
      "source": [
        "\n",
        "\n"
      ],
      "metadata": {
        "id": "wT5nFoxVjAS9"
      },
      "execution_count": null,
      "outputs": []
    },
    {
      "cell_type": "code",
      "source": [
        ""
      ],
      "metadata": {
        "id": "37fuNH5nZmZg"
      },
      "execution_count": null,
      "outputs": []
    },
    {
      "cell_type": "code",
      "source": [
        ""
      ],
      "metadata": {
        "id": "LosKWwbIZm7n"
      },
      "execution_count": null,
      "outputs": []
    },
    {
      "cell_type": "markdown",
      "source": [
        "## **STEP 7: Model result comparison**"
      ],
      "metadata": {
        "id": "fEsW58rFiqJV"
      }
    },
    {
      "cell_type": "code",
      "source": [
        "\n",
        "\n"
      ],
      "metadata": {
        "id": "ndCVRXvti9SZ"
      },
      "execution_count": null,
      "outputs": []
    },
    {
      "cell_type": "code",
      "source": [
        "\n",
        "\n"
      ],
      "metadata": {
        "id": "s3DZOMe-SyV1"
      },
      "execution_count": null,
      "outputs": []
    },
    {
      "cell_type": "code",
      "source": [
        "\n"
      ],
      "metadata": {
        "id": "F3qv3WaMVIUY"
      },
      "execution_count": null,
      "outputs": []
    },
    {
      "cell_type": "markdown",
      "source": [
        "## **STEP 8: Conclusion**"
      ],
      "metadata": {
        "id": "FiQ9351akkpQ"
      }
    },
    {
      "cell_type": "code",
      "source": [
        "\n",
        "\n",
        "\n"
      ],
      "metadata": {
        "id": "zjuEQS6Si9g-"
      },
      "execution_count": null,
      "outputs": []
    },
    {
      "cell_type": "code",
      "source": [
        "\n",
        "\n",
        "\n"
      ],
      "metadata": {
        "id": "qY6VOoFAecmY"
      },
      "execution_count": null,
      "outputs": []
    },
    {
      "cell_type": "code",
      "source": [
        ""
      ],
      "metadata": {
        "id": "riUXwQBX39rB"
      },
      "execution_count": null,
      "outputs": []
    }
  ]
}